{
  "cells": [
    {
      "cell_type": "markdown",
      "metadata": {
        "id": "view-in-github",
        "colab_type": "text"
      },
      "source": [
        "<a href=\"https://colab.research.google.com/github/samson12193/Ingestion_and_pipeline/blob/main/ingestion_and_pipeline.ipynb\" target=\"_parent\"><img src=\"https://colab.research.google.com/assets/colab-badge.svg\" alt=\"Open In Colab\"/></a>"
      ]
    },
    {
      "cell_type": "markdown",
      "metadata": {
        "id": "twkp6Zjr4ff4"
      },
      "source": [
        "# Data Ingestion & Pipeline\n",
        "\n",
        "Task:\n",
        "This project takes a csv file of 2+ GB, read the file using Dask, Modin, Ray, pandas and present findings in term of computational efficiency. It Performs basic validation on data columns: remove special character , white spaces from the column name.\n",
        "\n",
        "It creates a YAML file and write the column name in YAML file and validates number of columns and column name of ingested file with YAML.\n",
        "\n",
        "It writes the file in pipe separated text file (|) in gz format and creates a summary of the file: total number of rows, total number of columns and file size."
      ]
    },
    {
      "cell_type": "code",
      "source": [
        "pip install ray"
      ],
      "metadata": {
        "colab": {
          "base_uri": "https://localhost:8080/"
        },
        "id": "-C0-LBZ9RqNv",
        "outputId": "b91d35c2-c99a-4139-b91b-536233c723cc"
      },
      "execution_count": 1,
      "outputs": [
        {
          "output_type": "stream",
          "name": "stdout",
          "text": [
            "Requirement already satisfied: ray in /usr/local/lib/python3.10/dist-packages (2.22.0)\n",
            "Requirement already satisfied: click>=7.0 in /usr/local/lib/python3.10/dist-packages (from ray) (8.1.7)\n",
            "Requirement already satisfied: filelock in /usr/local/lib/python3.10/dist-packages (from ray) (3.14.0)\n",
            "Requirement already satisfied: jsonschema in /usr/local/lib/python3.10/dist-packages (from ray) (4.22.0)\n",
            "Requirement already satisfied: msgpack<2.0.0,>=1.0.0 in /usr/local/lib/python3.10/dist-packages (from ray) (1.0.8)\n",
            "Requirement already satisfied: packaging in /usr/local/lib/python3.10/dist-packages (from ray) (24.0)\n",
            "Requirement already satisfied: protobuf!=3.19.5,>=3.15.3 in /usr/local/lib/python3.10/dist-packages (from ray) (3.20.3)\n",
            "Requirement already satisfied: pyyaml in /usr/local/lib/python3.10/dist-packages (from ray) (6.0.1)\n",
            "Requirement already satisfied: aiosignal in /usr/local/lib/python3.10/dist-packages (from ray) (1.3.1)\n",
            "Requirement already satisfied: frozenlist in /usr/local/lib/python3.10/dist-packages (from ray) (1.4.1)\n",
            "Requirement already satisfied: requests in /usr/local/lib/python3.10/dist-packages (from ray) (2.31.0)\n",
            "Requirement already satisfied: attrs>=22.2.0 in /usr/local/lib/python3.10/dist-packages (from jsonschema->ray) (23.2.0)\n",
            "Requirement already satisfied: jsonschema-specifications>=2023.03.6 in /usr/local/lib/python3.10/dist-packages (from jsonschema->ray) (2023.12.1)\n",
            "Requirement already satisfied: referencing>=0.28.4 in /usr/local/lib/python3.10/dist-packages (from jsonschema->ray) (0.35.1)\n",
            "Requirement already satisfied: rpds-py>=0.7.1 in /usr/local/lib/python3.10/dist-packages (from jsonschema->ray) (0.18.1)\n",
            "Requirement already satisfied: charset-normalizer<4,>=2 in /usr/local/lib/python3.10/dist-packages (from requests->ray) (3.3.2)\n",
            "Requirement already satisfied: idna<4,>=2.5 in /usr/local/lib/python3.10/dist-packages (from requests->ray) (3.7)\n",
            "Requirement already satisfied: urllib3<3,>=1.21.1 in /usr/local/lib/python3.10/dist-packages (from requests->ray) (2.0.7)\n",
            "Requirement already satisfied: certifi>=2017.4.17 in /usr/local/lib/python3.10/dist-packages (from requests->ray) (2024.2.2)\n"
          ]
        }
      ]
    },
    {
      "cell_type": "code",
      "source": [
        "pip install modin"
      ],
      "metadata": {
        "colab": {
          "base_uri": "https://localhost:8080/"
        },
        "id": "TvNseEcFqchl",
        "outputId": "213c69d1-938f-4edf-d2a7-0e3be8bcfe5e"
      },
      "execution_count": 2,
      "outputs": [
        {
          "output_type": "stream",
          "name": "stdout",
          "text": [
            "Requirement already satisfied: modin in /usr/local/lib/python3.10/dist-packages (0.30.0)\n",
            "Requirement already satisfied: pandas<2.3,>=2.2 in /usr/local/lib/python3.10/dist-packages (from modin) (2.2.2)\n",
            "Requirement already satisfied: packaging>=21.0 in /usr/local/lib/python3.10/dist-packages (from modin) (24.0)\n",
            "Requirement already satisfied: numpy>=1.22.4 in /usr/local/lib/python3.10/dist-packages (from modin) (1.25.2)\n",
            "Requirement already satisfied: fsspec>=2022.11.0 in /usr/local/lib/python3.10/dist-packages (from modin) (2024.3.1)\n",
            "Requirement already satisfied: psutil>=5.8.0 in /usr/local/lib/python3.10/dist-packages (from modin) (5.9.5)\n",
            "Requirement already satisfied: python-dateutil>=2.8.2 in /usr/local/lib/python3.10/dist-packages (from pandas<2.3,>=2.2->modin) (2.9.0.post0)\n",
            "Requirement already satisfied: pytz>=2020.1 in /usr/local/lib/python3.10/dist-packages (from pandas<2.3,>=2.2->modin) (2024.1)\n",
            "Requirement already satisfied: tzdata>=2022.7 in /usr/local/lib/python3.10/dist-packages (from pandas<2.3,>=2.2->modin) (2024.1)\n",
            "Requirement already satisfied: six>=1.5 in /usr/local/lib/python3.10/dist-packages (from python-dateutil>=2.8.2->pandas<2.3,>=2.2->modin) (1.16.0)\n"
          ]
        }
      ]
    },
    {
      "cell_type": "code",
      "source": [
        "pip install --upgrade modin\n"
      ],
      "metadata": {
        "colab": {
          "base_uri": "https://localhost:8080/"
        },
        "id": "SG27pYJStQ_O",
        "outputId": "1e1a6f7e-e64c-4daf-a303-0b0805852b0b"
      },
      "execution_count": 3,
      "outputs": [
        {
          "output_type": "stream",
          "name": "stdout",
          "text": [
            "Requirement already satisfied: modin in /usr/local/lib/python3.10/dist-packages (0.30.0)\n",
            "Requirement already satisfied: pandas<2.3,>=2.2 in /usr/local/lib/python3.10/dist-packages (from modin) (2.2.2)\n",
            "Requirement already satisfied: packaging>=21.0 in /usr/local/lib/python3.10/dist-packages (from modin) (24.0)\n",
            "Requirement already satisfied: numpy>=1.22.4 in /usr/local/lib/python3.10/dist-packages (from modin) (1.25.2)\n",
            "Requirement already satisfied: fsspec>=2022.11.0 in /usr/local/lib/python3.10/dist-packages (from modin) (2024.3.1)\n",
            "Requirement already satisfied: psutil>=5.8.0 in /usr/local/lib/python3.10/dist-packages (from modin) (5.9.5)\n",
            "Requirement already satisfied: python-dateutil>=2.8.2 in /usr/local/lib/python3.10/dist-packages (from pandas<2.3,>=2.2->modin) (2.9.0.post0)\n",
            "Requirement already satisfied: pytz>=2020.1 in /usr/local/lib/python3.10/dist-packages (from pandas<2.3,>=2.2->modin) (2024.1)\n",
            "Requirement already satisfied: tzdata>=2022.7 in /usr/local/lib/python3.10/dist-packages (from pandas<2.3,>=2.2->modin) (2024.1)\n",
            "Requirement already satisfied: six>=1.5 in /usr/local/lib/python3.10/dist-packages (from python-dateutil>=2.8.2->pandas<2.3,>=2.2->modin) (1.16.0)\n"
          ]
        }
      ]
    },
    {
      "cell_type": "code",
      "source": [
        "pip install --upgrade pandas==2.2.*\n"
      ],
      "metadata": {
        "colab": {
          "base_uri": "https://localhost:8080/"
        },
        "id": "m8MhZmvwYni5",
        "outputId": "e98c4dab-ea85-4e02-aa16-b7978efbb020"
      },
      "execution_count": 4,
      "outputs": [
        {
          "output_type": "stream",
          "name": "stdout",
          "text": [
            "Requirement already satisfied: pandas==2.2.* in /usr/local/lib/python3.10/dist-packages (2.2.2)\n",
            "Requirement already satisfied: numpy>=1.22.4 in /usr/local/lib/python3.10/dist-packages (from pandas==2.2.*) (1.25.2)\n",
            "Requirement already satisfied: python-dateutil>=2.8.2 in /usr/local/lib/python3.10/dist-packages (from pandas==2.2.*) (2.9.0.post0)\n",
            "Requirement already satisfied: pytz>=2020.1 in /usr/local/lib/python3.10/dist-packages (from pandas==2.2.*) (2024.1)\n",
            "Requirement already satisfied: tzdata>=2022.7 in /usr/local/lib/python3.10/dist-packages (from pandas==2.2.*) (2024.1)\n",
            "Requirement already satisfied: six>=1.5 in /usr/local/lib/python3.10/dist-packages (from python-dateutil>=2.8.2->pandas==2.2.*) (1.16.0)\n"
          ]
        }
      ]
    },
    {
      "cell_type": "code",
      "source": [
        "pip install dask[dataframe]"
      ],
      "metadata": {
        "colab": {
          "base_uri": "https://localhost:8080/"
        },
        "id": "EJJR_Ij5Ify9",
        "outputId": "15a93db9-a347-4e04-a55d-b97b31ee65b6"
      },
      "execution_count": 5,
      "outputs": [
        {
          "output_type": "stream",
          "name": "stdout",
          "text": [
            "Requirement already satisfied: dask[dataframe] in /usr/local/lib/python3.10/dist-packages (2024.5.0)\n",
            "Requirement already satisfied: click>=8.1 in /usr/local/lib/python3.10/dist-packages (from dask[dataframe]) (8.1.7)\n",
            "Requirement already satisfied: cloudpickle>=1.5.0 in /usr/local/lib/python3.10/dist-packages (from dask[dataframe]) (3.0.0)\n",
            "Requirement already satisfied: fsspec>=2021.09.0 in /usr/local/lib/python3.10/dist-packages (from dask[dataframe]) (2024.3.1)\n",
            "Requirement already satisfied: packaging>=20.0 in /usr/local/lib/python3.10/dist-packages (from dask[dataframe]) (24.0)\n",
            "Requirement already satisfied: partd>=1.2.0 in /usr/local/lib/python3.10/dist-packages (from dask[dataframe]) (1.4.2)\n",
            "Requirement already satisfied: pyyaml>=5.3.1 in /usr/local/lib/python3.10/dist-packages (from dask[dataframe]) (6.0.1)\n",
            "Requirement already satisfied: toolz>=0.10.0 in /usr/local/lib/python3.10/dist-packages (from dask[dataframe]) (0.12.1)\n",
            "Requirement already satisfied: importlib-metadata>=4.13.0 in /usr/local/lib/python3.10/dist-packages (from dask[dataframe]) (7.1.0)\n",
            "Requirement already satisfied: pandas>=1.3 in /usr/local/lib/python3.10/dist-packages (from dask[dataframe]) (2.2.2)\n",
            "Requirement already satisfied: dask-expr<1.2,>=1.1 in /usr/local/lib/python3.10/dist-packages (from dask[dataframe]) (1.1.0)\n",
            "Requirement already satisfied: pyarrow>=7.0.0 in /usr/local/lib/python3.10/dist-packages (from dask-expr<1.2,>=1.1->dask[dataframe]) (16.1.0)\n",
            "Requirement already satisfied: zipp>=0.5 in /usr/local/lib/python3.10/dist-packages (from importlib-metadata>=4.13.0->dask[dataframe]) (3.18.1)\n",
            "Requirement already satisfied: numpy>=1.22.4 in /usr/local/lib/python3.10/dist-packages (from pandas>=1.3->dask[dataframe]) (1.25.2)\n",
            "Requirement already satisfied: python-dateutil>=2.8.2 in /usr/local/lib/python3.10/dist-packages (from pandas>=1.3->dask[dataframe]) (2.9.0.post0)\n",
            "Requirement already satisfied: pytz>=2020.1 in /usr/local/lib/python3.10/dist-packages (from pandas>=1.3->dask[dataframe]) (2024.1)\n",
            "Requirement already satisfied: tzdata>=2022.7 in /usr/local/lib/python3.10/dist-packages (from pandas>=1.3->dask[dataframe]) (2024.1)\n",
            "Requirement already satisfied: locket in /usr/local/lib/python3.10/dist-packages (from partd>=1.2.0->dask[dataframe]) (1.0.0)\n",
            "Requirement already satisfied: six>=1.5 in /usr/local/lib/python3.10/dist-packages (from python-dateutil>=2.8.2->pandas>=1.3->dask[dataframe]) (1.16.0)\n"
          ]
        }
      ]
    },
    {
      "cell_type": "markdown",
      "source": [
        "# Load libraries"
      ],
      "metadata": {
        "id": "-z0HAXBiRuSR"
      }
    },
    {
      "cell_type": "code",
      "execution_count": 6,
      "metadata": {
        "id": "v_RBrCBwDcXA",
        "colab": {
          "base_uri": "https://localhost:8080/"
        },
        "outputId": "ad0b250b-20df-45f8-f193-77e4245b89c0"
      },
      "outputs": [
        {
          "output_type": "stream",
          "name": "stdout",
          "text": [
            "Drive already mounted at /content/drive; to attempt to forcibly remount, call drive.mount(\"/content/drive\", force_remount=True).\n"
          ]
        }
      ],
      "source": [
        "# Mount Google Drive\n",
        "from google.colab import drive\n",
        "drive.mount('/content/drive')"
      ]
    },
    {
      "cell_type": "code",
      "source": [
        " # Importing libraries\n",
        "import numpy as np\n",
        "import pandas as pd\n",
        "import modin.pandas as pdm\n",
        "import time\n",
        "import os\n",
        "import io\n",
        "from dask import dataframe as df1\n",
        "import dask.dataframe as dd\n",
        "import logging\n",
        "import subprocess\n",
        "import datetime\n",
        "import gc\n",
        "import re\n"
      ],
      "metadata": {
        "id": "z6lFiIfAWCJb"
      },
      "execution_count": 7,
      "outputs": []
    },
    {
      "cell_type": "markdown",
      "source": [
        "# Mount Google Drive"
      ],
      "metadata": {
        "id": "xJxqKk50Ryho"
      }
    },
    {
      "cell_type": "markdown",
      "source": [
        "# Initialize Google Path"
      ],
      "metadata": {
        "id": "Zd3-7mNTRldI"
      }
    },
    {
      "cell_type": "code",
      "execution_count": 8,
      "metadata": {
        "id": "3BNoV0qOFdAn"
      },
      "outputs": [],
      "source": [
        "#this is to initialise path for the parent folders after \"MyDrive\",\n",
        "GOOGLE_DRIVE_PATH_AFTER_MYDRIVE  = os.path.join('/content/drive/MyDrive/Combined_Flights_2019.csv')\n",
        "GOOGLE_DRIVE_PATH = os.path.join('gdrive', 'MyDrive', GOOGLE_DRIVE_PATH_AFTER_MYDRIVE)\n"
      ]
    },
    {
      "cell_type": "markdown",
      "metadata": {
        "id": "FNbxuEm77_qR"
      },
      "source": [
        "# Data Ingestion"
      ]
    },
    {
      "cell_type": "markdown",
      "source": [
        "1. Dask"
      ],
      "metadata": {
        "id": "Dn6QSGLlL8jF"
      }
    },
    {
      "cell_type": "code",
      "execution_count": 9,
      "metadata": {
        "id": "HrfUSYWvHQqK",
        "colab": {
          "base_uri": "https://localhost:8080/",
          "height": 377
        },
        "outputId": "9509ed3e-1c7d-482b-e958-7e4e7d100518"
      },
      "outputs": [
        {
          "output_type": "stream",
          "name": "stdout",
          "text": [
            "File size in GB is 2.63\n",
            "Time taken to read with dask:  0.034 seconds\n"
          ]
        },
        {
          "output_type": "display_data",
          "data": {
            "text/plain": [
              "   FlightDate    Airline Origin Dest  Cancelled  Diverted  CRSDepTime  \\\n",
              "0  2019-04-01  Envoy Air    LIT  ORD      False     False        1212   \n",
              "1  2019-04-02  Envoy Air    LIT  ORD      False     False        1212   \n",
              "2  2019-04-03  Envoy Air    LIT  ORD      False     False        1212   \n",
              "3  2019-04-04  Envoy Air    LIT  ORD      False     False        1212   \n",
              "4  2019-04-05  Envoy Air    LIT  ORD      False     False        1212   \n",
              "\n",
              "   DepTime  DepDelayMinutes  DepDelay  ...  WheelsOff  WheelsOn  TaxiIn  \\\n",
              "0   1209.0              0.0      -3.0  ...     1219.0    1342.0     8.0   \n",
              "1   1200.0              0.0     -12.0  ...     1210.0    1339.0     9.0   \n",
              "2   1203.0              0.0      -9.0  ...     1214.0    1336.0     6.0   \n",
              "3   1435.0            143.0     143.0  ...     1452.0    1615.0     6.0   \n",
              "4   1216.0              4.0       4.0  ...     1234.0    1357.0    13.0   \n",
              "\n",
              "   CRSArrTime  ArrDelay  ArrDel15  ArrivalDelayGroups  ArrTimeBlk  \\\n",
              "0        1405     -15.0       0.0                -1.0   1400-1459   \n",
              "1        1405     -17.0       0.0                -2.0   1400-1459   \n",
              "2        1405     -23.0       0.0                -2.0   1400-1459   \n",
              "3        1405     136.0       1.0                 9.0   1400-1459   \n",
              "4        1405       5.0       0.0                 0.0   1400-1459   \n",
              "\n",
              "   DistanceGroup  DivAirportLandings  \n",
              "0              3                   0  \n",
              "1              3                   0  \n",
              "2              3                   0  \n",
              "3              3                   0  \n",
              "4              3                   0  \n",
              "\n",
              "[5 rows x 61 columns]"
            ],
            "text/html": [
              "\n",
              "  <div id=\"df-a414094d-5567-4fda-9657-3db9537981ad\" class=\"colab-df-container\">\n",
              "    <div>\n",
              "<style scoped>\n",
              "    .dataframe tbody tr th:only-of-type {\n",
              "        vertical-align: middle;\n",
              "    }\n",
              "\n",
              "    .dataframe tbody tr th {\n",
              "        vertical-align: top;\n",
              "    }\n",
              "\n",
              "    .dataframe thead th {\n",
              "        text-align: right;\n",
              "    }\n",
              "</style>\n",
              "<table border=\"1\" class=\"dataframe\">\n",
              "  <thead>\n",
              "    <tr style=\"text-align: right;\">\n",
              "      <th></th>\n",
              "      <th>FlightDate</th>\n",
              "      <th>Airline</th>\n",
              "      <th>Origin</th>\n",
              "      <th>Dest</th>\n",
              "      <th>Cancelled</th>\n",
              "      <th>Diverted</th>\n",
              "      <th>CRSDepTime</th>\n",
              "      <th>DepTime</th>\n",
              "      <th>DepDelayMinutes</th>\n",
              "      <th>DepDelay</th>\n",
              "      <th>...</th>\n",
              "      <th>WheelsOff</th>\n",
              "      <th>WheelsOn</th>\n",
              "      <th>TaxiIn</th>\n",
              "      <th>CRSArrTime</th>\n",
              "      <th>ArrDelay</th>\n",
              "      <th>ArrDel15</th>\n",
              "      <th>ArrivalDelayGroups</th>\n",
              "      <th>ArrTimeBlk</th>\n",
              "      <th>DistanceGroup</th>\n",
              "      <th>DivAirportLandings</th>\n",
              "    </tr>\n",
              "  </thead>\n",
              "  <tbody>\n",
              "    <tr>\n",
              "      <th>0</th>\n",
              "      <td>2019-04-01</td>\n",
              "      <td>Envoy Air</td>\n",
              "      <td>LIT</td>\n",
              "      <td>ORD</td>\n",
              "      <td>False</td>\n",
              "      <td>False</td>\n",
              "      <td>1212</td>\n",
              "      <td>1209.0</td>\n",
              "      <td>0.0</td>\n",
              "      <td>-3.0</td>\n",
              "      <td>...</td>\n",
              "      <td>1219.0</td>\n",
              "      <td>1342.0</td>\n",
              "      <td>8.0</td>\n",
              "      <td>1405</td>\n",
              "      <td>-15.0</td>\n",
              "      <td>0.0</td>\n",
              "      <td>-1.0</td>\n",
              "      <td>1400-1459</td>\n",
              "      <td>3</td>\n",
              "      <td>0</td>\n",
              "    </tr>\n",
              "    <tr>\n",
              "      <th>1</th>\n",
              "      <td>2019-04-02</td>\n",
              "      <td>Envoy Air</td>\n",
              "      <td>LIT</td>\n",
              "      <td>ORD</td>\n",
              "      <td>False</td>\n",
              "      <td>False</td>\n",
              "      <td>1212</td>\n",
              "      <td>1200.0</td>\n",
              "      <td>0.0</td>\n",
              "      <td>-12.0</td>\n",
              "      <td>...</td>\n",
              "      <td>1210.0</td>\n",
              "      <td>1339.0</td>\n",
              "      <td>9.0</td>\n",
              "      <td>1405</td>\n",
              "      <td>-17.0</td>\n",
              "      <td>0.0</td>\n",
              "      <td>-2.0</td>\n",
              "      <td>1400-1459</td>\n",
              "      <td>3</td>\n",
              "      <td>0</td>\n",
              "    </tr>\n",
              "    <tr>\n",
              "      <th>2</th>\n",
              "      <td>2019-04-03</td>\n",
              "      <td>Envoy Air</td>\n",
              "      <td>LIT</td>\n",
              "      <td>ORD</td>\n",
              "      <td>False</td>\n",
              "      <td>False</td>\n",
              "      <td>1212</td>\n",
              "      <td>1203.0</td>\n",
              "      <td>0.0</td>\n",
              "      <td>-9.0</td>\n",
              "      <td>...</td>\n",
              "      <td>1214.0</td>\n",
              "      <td>1336.0</td>\n",
              "      <td>6.0</td>\n",
              "      <td>1405</td>\n",
              "      <td>-23.0</td>\n",
              "      <td>0.0</td>\n",
              "      <td>-2.0</td>\n",
              "      <td>1400-1459</td>\n",
              "      <td>3</td>\n",
              "      <td>0</td>\n",
              "    </tr>\n",
              "    <tr>\n",
              "      <th>3</th>\n",
              "      <td>2019-04-04</td>\n",
              "      <td>Envoy Air</td>\n",
              "      <td>LIT</td>\n",
              "      <td>ORD</td>\n",
              "      <td>False</td>\n",
              "      <td>False</td>\n",
              "      <td>1212</td>\n",
              "      <td>1435.0</td>\n",
              "      <td>143.0</td>\n",
              "      <td>143.0</td>\n",
              "      <td>...</td>\n",
              "      <td>1452.0</td>\n",
              "      <td>1615.0</td>\n",
              "      <td>6.0</td>\n",
              "      <td>1405</td>\n",
              "      <td>136.0</td>\n",
              "      <td>1.0</td>\n",
              "      <td>9.0</td>\n",
              "      <td>1400-1459</td>\n",
              "      <td>3</td>\n",
              "      <td>0</td>\n",
              "    </tr>\n",
              "    <tr>\n",
              "      <th>4</th>\n",
              "      <td>2019-04-05</td>\n",
              "      <td>Envoy Air</td>\n",
              "      <td>LIT</td>\n",
              "      <td>ORD</td>\n",
              "      <td>False</td>\n",
              "      <td>False</td>\n",
              "      <td>1212</td>\n",
              "      <td>1216.0</td>\n",
              "      <td>4.0</td>\n",
              "      <td>4.0</td>\n",
              "      <td>...</td>\n",
              "      <td>1234.0</td>\n",
              "      <td>1357.0</td>\n",
              "      <td>13.0</td>\n",
              "      <td>1405</td>\n",
              "      <td>5.0</td>\n",
              "      <td>0.0</td>\n",
              "      <td>0.0</td>\n",
              "      <td>1400-1459</td>\n",
              "      <td>3</td>\n",
              "      <td>0</td>\n",
              "    </tr>\n",
              "  </tbody>\n",
              "</table>\n",
              "<p>5 rows × 61 columns</p>\n",
              "</div>\n",
              "    <div class=\"colab-df-buttons\">\n",
              "\n",
              "  <div class=\"colab-df-container\">\n",
              "    <button class=\"colab-df-convert\" onclick=\"convertToInteractive('df-a414094d-5567-4fda-9657-3db9537981ad')\"\n",
              "            title=\"Convert this dataframe to an interactive table.\"\n",
              "            style=\"display:none;\">\n",
              "\n",
              "  <svg xmlns=\"http://www.w3.org/2000/svg\" height=\"24px\" viewBox=\"0 -960 960 960\">\n",
              "    <path d=\"M120-120v-720h720v720H120Zm60-500h600v-160H180v160Zm220 220h160v-160H400v160Zm0 220h160v-160H400v160ZM180-400h160v-160H180v160Zm440 0h160v-160H620v160ZM180-180h160v-160H180v160Zm440 0h160v-160H620v160Z\"/>\n",
              "  </svg>\n",
              "    </button>\n",
              "\n",
              "  <style>\n",
              "    .colab-df-container {\n",
              "      display:flex;\n",
              "      gap: 12px;\n",
              "    }\n",
              "\n",
              "    .colab-df-convert {\n",
              "      background-color: #E8F0FE;\n",
              "      border: none;\n",
              "      border-radius: 50%;\n",
              "      cursor: pointer;\n",
              "      display: none;\n",
              "      fill: #1967D2;\n",
              "      height: 32px;\n",
              "      padding: 0 0 0 0;\n",
              "      width: 32px;\n",
              "    }\n",
              "\n",
              "    .colab-df-convert:hover {\n",
              "      background-color: #E2EBFA;\n",
              "      box-shadow: 0px 1px 2px rgba(60, 64, 67, 0.3), 0px 1px 3px 1px rgba(60, 64, 67, 0.15);\n",
              "      fill: #174EA6;\n",
              "    }\n",
              "\n",
              "    .colab-df-buttons div {\n",
              "      margin-bottom: 4px;\n",
              "    }\n",
              "\n",
              "    [theme=dark] .colab-df-convert {\n",
              "      background-color: #3B4455;\n",
              "      fill: #D2E3FC;\n",
              "    }\n",
              "\n",
              "    [theme=dark] .colab-df-convert:hover {\n",
              "      background-color: #434B5C;\n",
              "      box-shadow: 0px 1px 3px 1px rgba(0, 0, 0, 0.15);\n",
              "      filter: drop-shadow(0px 1px 2px rgba(0, 0, 0, 0.3));\n",
              "      fill: #FFFFFF;\n",
              "    }\n",
              "  </style>\n",
              "\n",
              "    <script>\n",
              "      const buttonEl =\n",
              "        document.querySelector('#df-a414094d-5567-4fda-9657-3db9537981ad button.colab-df-convert');\n",
              "      buttonEl.style.display =\n",
              "        google.colab.kernel.accessAllowed ? 'block' : 'none';\n",
              "\n",
              "      async function convertToInteractive(key) {\n",
              "        const element = document.querySelector('#df-a414094d-5567-4fda-9657-3db9537981ad');\n",
              "        const dataTable =\n",
              "          await google.colab.kernel.invokeFunction('convertToInteractive',\n",
              "                                                    [key], {});\n",
              "        if (!dataTable) return;\n",
              "\n",
              "        const docLinkHtml = 'Like what you see? Visit the ' +\n",
              "          '<a target=\"_blank\" href=https://colab.research.google.com/notebooks/data_table.ipynb>data table notebook</a>'\n",
              "          + ' to learn more about interactive tables.';\n",
              "        element.innerHTML = '';\n",
              "        dataTable['output_type'] = 'display_data';\n",
              "        await google.colab.output.renderOutput(dataTable, element);\n",
              "        const docLink = document.createElement('div');\n",
              "        docLink.innerHTML = docLinkHtml;\n",
              "        element.appendChild(docLink);\n",
              "      }\n",
              "    </script>\n",
              "  </div>\n",
              "\n",
              "\n",
              "<div id=\"df-fbb7e567-8d5d-4f6d-93b4-60bb527bc6dd\">\n",
              "  <button class=\"colab-df-quickchart\" onclick=\"quickchart('df-fbb7e567-8d5d-4f6d-93b4-60bb527bc6dd')\"\n",
              "            title=\"Suggest charts\"\n",
              "            style=\"display:none;\">\n",
              "\n",
              "<svg xmlns=\"http://www.w3.org/2000/svg\" height=\"24px\"viewBox=\"0 0 24 24\"\n",
              "     width=\"24px\">\n",
              "    <g>\n",
              "        <path d=\"M19 3H5c-1.1 0-2 .9-2 2v14c0 1.1.9 2 2 2h14c1.1 0 2-.9 2-2V5c0-1.1-.9-2-2-2zM9 17H7v-7h2v7zm4 0h-2V7h2v10zm4 0h-2v-4h2v4z\"/>\n",
              "    </g>\n",
              "</svg>\n",
              "  </button>\n",
              "\n",
              "<style>\n",
              "  .colab-df-quickchart {\n",
              "      --bg-color: #E8F0FE;\n",
              "      --fill-color: #1967D2;\n",
              "      --hover-bg-color: #E2EBFA;\n",
              "      --hover-fill-color: #174EA6;\n",
              "      --disabled-fill-color: #AAA;\n",
              "      --disabled-bg-color: #DDD;\n",
              "  }\n",
              "\n",
              "  [theme=dark] .colab-df-quickchart {\n",
              "      --bg-color: #3B4455;\n",
              "      --fill-color: #D2E3FC;\n",
              "      --hover-bg-color: #434B5C;\n",
              "      --hover-fill-color: #FFFFFF;\n",
              "      --disabled-bg-color: #3B4455;\n",
              "      --disabled-fill-color: #666;\n",
              "  }\n",
              "\n",
              "  .colab-df-quickchart {\n",
              "    background-color: var(--bg-color);\n",
              "    border: none;\n",
              "    border-radius: 50%;\n",
              "    cursor: pointer;\n",
              "    display: none;\n",
              "    fill: var(--fill-color);\n",
              "    height: 32px;\n",
              "    padding: 0;\n",
              "    width: 32px;\n",
              "  }\n",
              "\n",
              "  .colab-df-quickchart:hover {\n",
              "    background-color: var(--hover-bg-color);\n",
              "    box-shadow: 0 1px 2px rgba(60, 64, 67, 0.3), 0 1px 3px 1px rgba(60, 64, 67, 0.15);\n",
              "    fill: var(--button-hover-fill-color);\n",
              "  }\n",
              "\n",
              "  .colab-df-quickchart-complete:disabled,\n",
              "  .colab-df-quickchart-complete:disabled:hover {\n",
              "    background-color: var(--disabled-bg-color);\n",
              "    fill: var(--disabled-fill-color);\n",
              "    box-shadow: none;\n",
              "  }\n",
              "\n",
              "  .colab-df-spinner {\n",
              "    border: 2px solid var(--fill-color);\n",
              "    border-color: transparent;\n",
              "    border-bottom-color: var(--fill-color);\n",
              "    animation:\n",
              "      spin 1s steps(1) infinite;\n",
              "  }\n",
              "\n",
              "  @keyframes spin {\n",
              "    0% {\n",
              "      border-color: transparent;\n",
              "      border-bottom-color: var(--fill-color);\n",
              "      border-left-color: var(--fill-color);\n",
              "    }\n",
              "    20% {\n",
              "      border-color: transparent;\n",
              "      border-left-color: var(--fill-color);\n",
              "      border-top-color: var(--fill-color);\n",
              "    }\n",
              "    30% {\n",
              "      border-color: transparent;\n",
              "      border-left-color: var(--fill-color);\n",
              "      border-top-color: var(--fill-color);\n",
              "      border-right-color: var(--fill-color);\n",
              "    }\n",
              "    40% {\n",
              "      border-color: transparent;\n",
              "      border-right-color: var(--fill-color);\n",
              "      border-top-color: var(--fill-color);\n",
              "    }\n",
              "    60% {\n",
              "      border-color: transparent;\n",
              "      border-right-color: var(--fill-color);\n",
              "    }\n",
              "    80% {\n",
              "      border-color: transparent;\n",
              "      border-right-color: var(--fill-color);\n",
              "      border-bottom-color: var(--fill-color);\n",
              "    }\n",
              "    90% {\n",
              "      border-color: transparent;\n",
              "      border-bottom-color: var(--fill-color);\n",
              "    }\n",
              "  }\n",
              "</style>\n",
              "\n",
              "  <script>\n",
              "    async function quickchart(key) {\n",
              "      const quickchartButtonEl =\n",
              "        document.querySelector('#' + key + ' button');\n",
              "      quickchartButtonEl.disabled = true;  // To prevent multiple clicks.\n",
              "      quickchartButtonEl.classList.add('colab-df-spinner');\n",
              "      try {\n",
              "        const charts = await google.colab.kernel.invokeFunction(\n",
              "            'suggestCharts', [key], {});\n",
              "      } catch (error) {\n",
              "        console.error('Error during call to suggestCharts:', error);\n",
              "      }\n",
              "      quickchartButtonEl.classList.remove('colab-df-spinner');\n",
              "      quickchartButtonEl.classList.add('colab-df-quickchart-complete');\n",
              "    }\n",
              "    (() => {\n",
              "      let quickchartButtonEl =\n",
              "        document.querySelector('#df-fbb7e567-8d5d-4f6d-93b4-60bb527bc6dd button');\n",
              "      quickchartButtonEl.style.display =\n",
              "        google.colab.kernel.accessAllowed ? 'block' : 'none';\n",
              "    })();\n",
              "  </script>\n",
              "</div>\n",
              "    </div>\n",
              "  </div>\n"
            ],
            "application/vnd.google.colaboratory.intrinsic+json": {
              "type": "dataframe"
            }
          },
          "metadata": {}
        }
      ],
      "source": [
        "# Read the file using Dask\n",
        "dask_time = time.time()\n",
        "df_dask = dd.read_csv(GOOGLE_DRIVE_PATH)\n",
        "e_time_dask = time.time()\n",
        "\n",
        "# Calculate file size\n",
        "file_stats = os.stat(GOOGLE_DRIVE_PATH)\n",
        "print(\"File size in GB is {:.2f}\".format(file_stats.st_size / (1024 * 1024 * 1024)))\n",
        "\n",
        "# Data ingestion time\n",
        "print(\"Time taken to read with dask: \", round(e_time_dask - dask_time, 3), \"seconds\")\n",
        "\n",
        "# Display the first few rows of the DataFrame\n",
        "display(df_dask.head(5))\n"
      ]
    },
    {
      "cell_type": "markdown",
      "source": [
        "2. Pandas"
      ],
      "metadata": {
        "id": "VuqLTHliWiwj"
      }
    },
    {
      "cell_type": "code",
      "source": [
        "# Record the start time before reading the CSV file with Pandas\n",
        "s_time_pandas = time.time()\n",
        "\n",
        "# Read the CSV file using Pandas' read_csv function\n",
        "df_pandas = pd.read_csv(GOOGLE_DRIVE_PATH)\n",
        "\n",
        "# Record the end time after reading the CSV file\n",
        "e_time_pandas = time.time()\n",
        "\n",
        "# Calculate and print the time taken\n",
        "print(\"Time taken to read with pandas: \", round(e_time_pandas - s_time_pandas, 3), \"seconds\")\n"
      ],
      "metadata": {
        "id": "ukWnV1PLWnLV",
        "colab": {
          "base_uri": "https://localhost:8080/"
        },
        "outputId": "79a68e7e-793a-40e5-e0ce-33a30181364b"
      },
      "execution_count": 10,
      "outputs": [
        {
          "output_type": "stream",
          "name": "stdout",
          "text": [
            "Time taken to read with pandas:  52.75 seconds\n"
          ]
        }
      ]
    },
    {
      "cell_type": "markdown",
      "source": [
        "3. Modin\n"
      ],
      "metadata": {
        "id": "T4Db-8couoBV"
      }
    },
    {
      "cell_type": "code",
      "source": [
        "# Record the start time before reading the CSV file\n",
        "s_time_modin = time.time()\n",
        "\n",
        "# Read the CSV file using Modin's read_csv function\n",
        "# GOOGLE_DRIVE_PATH should be the path to your CSV file on Google Drive\n",
        "df_modin = pdm.read_csv(GOOGLE_DRIVE_PATH)\n",
        "\n",
        "# Record the end time after reading the CSV file\n",
        "e_time_modin = time.time()\n",
        "\n",
        "# Calculate and print the time taken to read the file with Modin\n",
        "# round() is used to limit the displayed time to three decimal places\n",
        "print(\"Time taken to read with modin: \", round(e_time_modin - s_time_modin, 3), \"seconds\")"
      ],
      "metadata": {
        "id": "e2_gfjtJXTVn",
        "colab": {
          "base_uri": "https://localhost:8080/"
        },
        "outputId": "30e3ed3e-6032-478f-a0d7-f9feb192ddc3"
      },
      "execution_count": 11,
      "outputs": [
        {
          "output_type": "stream",
          "name": "stderr",
          "text": [
            "UserWarning: The size of /dev/shm is too small (177143283712 bytes). The required size at least half of RAM (179616575488 bytes). Please, delete files in /dev/shm or increase size of /dev/shm with --shm-size in Docker. Also, you can can override the memory size for each Ray worker (in bytes) to the MODIN_MEMORY environment variable.\n",
            "2024-05-17 16:58:59,055\tINFO worker.py:1749 -- Started a local Ray instance.\n"
          ]
        },
        {
          "output_type": "stream",
          "name": "stdout",
          "text": [
            "Time taken to read with modin:  19.23 seconds\n"
          ]
        }
      ]
    },
    {
      "cell_type": "markdown",
      "source": [
        "4. Ray"
      ],
      "metadata": {
        "id": "1uHBp14EQ47V"
      }
    },
    {
      "cell_type": "code",
      "source": [
        "# Initialize Ray\n",
        "import ray\n",
        "ray.shutdown()\n",
        "ray.init()  # This sets up the Ray runtime environment\n",
        "\n",
        "# Record the start time before reading the CSV file with Ray\n",
        "s_time_ray = time.time()\n",
        "\n",
        "# Read the CSV file using Ray Datasets\n",
        "ds = ray.data.read_csv(GOOGLE_DRIVE_PATH)\n",
        "\n",
        "# Convert Ray Dataset to Pandas DataFrame\n",
        "df_ray = ds.to_pandas()\n",
        "\n",
        "# Record the end time after reading the CSV file\n",
        "e_time_ray = time.time()\n",
        "\n",
        "# Calculate and print the time taken\n",
        "print(\"Time taken to read with Ray: \", round(e_time_ray - s_time_ray, 3), \"seconds\")\n"
      ],
      "metadata": {
        "colab": {
          "base_uri": "https://localhost:8080/",
          "height": 116,
          "referenced_widgets": [
            "b9589382e3f34debbca1fd8faf9d119e",
            "8ef8bfc44e72499097f6656802faaeba",
            "4388041828714d91b041b95443b2ab95",
            "2845ead028ad4f70ae74b2098bc4bbf1",
            "79d39df2683f4d0fb7166145216d9b37",
            "5f577be7061d4d40beae5e393379bc1c",
            "fe7ade6e2b2945a08227f066348422ec",
            "5c6983e5819e41a4a96b3ac095d207d8",
            "053e6494ba3c4dccaa0c19bb84cb7423",
            "824508b52a5f489299748f444ad3f40f",
            "69b4215f22b540a4a8d3dbae5ab7b516",
            "e2eb2cf1061345a6a6e883825de0cd90",
            "471071b1264a41cdba6bbc097659387e",
            "7939334ebb8f4010829a144e1927e66d",
            "fa982c1fea564c9aadbfe66e8e13ff81",
            "829f79d56c2a4ea2928d13be87e102ce",
            "8ac3869d5fb045d89f6ab7a368cde353",
            "0e738195e11a40ae82fad99d120ef01f",
            "9f6a320993104ef580a4480088c1f397",
            "073068ae2d504a05a6f3c4ca19f54046",
            "7ef0cc3b345849b28b706226e3dc952e",
            "6a9be5215d64466887636e5f830f227c"
          ]
        },
        "id": "g6CjuxNbQ1tT",
        "outputId": "89f69736-b020-422e-b178-9fd2962bfe97"
      },
      "execution_count": 14,
      "outputs": [
        {
          "output_type": "stream",
          "name": "stderr",
          "text": [
            "2024-05-17 17:00:34,010\tINFO worker.py:1749 -- Started a local Ray instance.\n"
          ]
        },
        {
          "output_type": "display_data",
          "data": {
            "text/plain": [
              "Read progress 0:   0%|          | 0/1 [00:00<?, ?it/s]"
            ],
            "application/vnd.jupyter.widget-view+json": {
              "version_major": 2,
              "version_minor": 0,
              "model_id": "b9589382e3f34debbca1fd8faf9d119e"
            }
          },
          "metadata": {}
        },
        {
          "output_type": "display_data",
          "data": {
            "text/plain": [
              "Read progress 0:   0%|          | 0/1 [00:00<?, ?it/s]"
            ],
            "application/vnd.jupyter.widget-view+json": {
              "version_major": 2,
              "version_minor": 0,
              "model_id": "e2eb2cf1061345a6a6e883825de0cd90"
            }
          },
          "metadata": {}
        },
        {
          "output_type": "stream",
          "name": "stdout",
          "text": [
            "Time taken to read with Ray:  50.489 seconds\n"
          ]
        }
      ]
    },
    {
      "cell_type": "markdown",
      "source": [
        "Getting column list"
      ],
      "metadata": {
        "id": "pxGGfszB_YlJ"
      }
    },
    {
      "cell_type": "code",
      "source": [
        "df_pandas.columns.values.tolist()\n"
      ],
      "metadata": {
        "id": "RrBBphxZAAus",
        "colab": {
          "base_uri": "https://localhost:8080/"
        },
        "outputId": "3e927304-bdba-48c7-b557-213160393f6f"
      },
      "execution_count": 15,
      "outputs": [
        {
          "output_type": "execute_result",
          "data": {
            "text/plain": [
              "['FlightDate',\n",
              " 'Airline',\n",
              " 'Origin',\n",
              " 'Dest',\n",
              " 'Cancelled',\n",
              " 'Diverted',\n",
              " 'CRSDepTime',\n",
              " 'DepTime',\n",
              " 'DepDelayMinutes',\n",
              " 'DepDelay',\n",
              " 'ArrTime',\n",
              " 'ArrDelayMinutes',\n",
              " 'AirTime',\n",
              " 'CRSElapsedTime',\n",
              " 'ActualElapsedTime',\n",
              " 'Distance',\n",
              " 'Year',\n",
              " 'Quarter',\n",
              " 'Month',\n",
              " 'DayofMonth',\n",
              " 'DayOfWeek',\n",
              " 'Marketing_Airline_Network',\n",
              " 'Operated_or_Branded_Code_Share_Partners',\n",
              " 'DOT_ID_Marketing_Airline',\n",
              " 'IATA_Code_Marketing_Airline',\n",
              " 'Flight_Number_Marketing_Airline',\n",
              " 'Operating_Airline',\n",
              " 'DOT_ID_Operating_Airline',\n",
              " 'IATA_Code_Operating_Airline',\n",
              " 'Tail_Number',\n",
              " 'Flight_Number_Operating_Airline',\n",
              " 'OriginAirportID',\n",
              " 'OriginAirportSeqID',\n",
              " 'OriginCityMarketID',\n",
              " 'OriginCityName',\n",
              " 'OriginState',\n",
              " 'OriginStateFips',\n",
              " 'OriginStateName',\n",
              " 'OriginWac',\n",
              " 'DestAirportID',\n",
              " 'DestAirportSeqID',\n",
              " 'DestCityMarketID',\n",
              " 'DestCityName',\n",
              " 'DestState',\n",
              " 'DestStateFips',\n",
              " 'DestStateName',\n",
              " 'DestWac',\n",
              " 'DepDel15',\n",
              " 'DepartureDelayGroups',\n",
              " 'DepTimeBlk',\n",
              " 'TaxiOut',\n",
              " 'WheelsOff',\n",
              " 'WheelsOn',\n",
              " 'TaxiIn',\n",
              " 'CRSArrTime',\n",
              " 'ArrDelay',\n",
              " 'ArrDel15',\n",
              " 'ArrivalDelayGroups',\n",
              " 'ArrTimeBlk',\n",
              " 'DistanceGroup',\n",
              " 'DivAirportLandings']"
            ]
          },
          "metadata": {},
          "execution_count": 15
        }
      ]
    },
    {
      "cell_type": "markdown",
      "source": [
        "# Validation:\n",
        "- Lower, remove whitespace and replace special characters by _ in the data file read.\n",
        "\n",
        "- If the number of columns and their names from the YAML file is the same as that in the data file read, Validation passed.\n",
        "\n",
        "- Else, point out the different columns in both files"
      ],
      "metadata": {
        "id": "IXVQOdJcBBlm"
      }
    },
    {
      "cell_type": "code",
      "source": [
        "%%writefile testutility.py\n",
        "\n",
        "# Util.py file Reading function\n",
        "# This script contains utility functions for reading configuration files\n",
        "# and validating DataFrame columns.\n",
        "\n",
        "import yaml  # Import the YAML library for parsing YAML files\n",
        "\n",
        "def read_config_file(filepath):\n",
        "    \"\"\"\n",
        "    Reads a YAML configuration file and returns the contents.\n",
        "\n",
        "    Parameters:\n",
        "    filepath (str): Path to the YAML file.\n",
        "\n",
        "    Returns:\n",
        "    dict: Contents of the YAML file as a dictionary, or None if an error occurs.\n",
        "    \"\"\"\n",
        "    try:\n",
        "        # Open and read the YAML file\n",
        "        with open(filepath, 'r') as stream:\n",
        "            return yaml.safe_load(stream)  # Parse and return the YAML file contents\n",
        "    except yaml.YAMLError as exc:\n",
        "        # Print an error message if a YAML parsing error occurs\n",
        "        print(exc)\n",
        "        return None\n",
        "    except FileNotFoundError:\n",
        "        # Print an error message if the file is not found\n",
        "        print(\"File not found:\", filepath)\n",
        "        return None\n",
        "\n",
        "# Using the read_config_file function\n",
        "# This reads the configuration data from the specified YAML file\n",
        "config_data = read_config_file(\"ingested_file_info.yaml\")\n",
        "\n",
        "def col_header_val(df, table_config):\n",
        "    \"\"\"\n",
        "    Validates and standardizes the column names of a DataFrame.\n",
        "\n",
        "    Parameters:\n",
        "    df (pd.DataFrame): DataFrame whose columns are to be validated.\n",
        "    table_config (dict): Configuration dictionary containing expected column names.\n",
        "\n",
        "    Returns:\n",
        "    int: 1 if validation passes, 0 if validation fails.\n",
        "    \"\"\"\n",
        "    # Convert all column names to lowercase\n",
        "    df.columns = df.columns.str.lower()\n",
        "\n",
        "    # Replace non-alphanumeric characters with underscores\n",
        "    df.columns = df.columns.str.replace('[^\\w]', '_', regex=True)\n",
        "\n",
        "    # Remove leading and trailing underscores from column names\n",
        "    df.columns = list(map(lambda x: x.strip('_'), list(df.columns)))\n",
        "\n",
        "    # Get the list of expected column names from the configuration\n",
        "    expected_col = list(map(lambda x: x.lower(), table_config['columns']))\n",
        "    expected_col.sort()  # Sort the expected column names\n",
        "\n",
        "    # Sort DataFrame columns for comparison\n",
        "    df.columns = list(map(lambda x: x.lower(), list(df.columns)))\n",
        "    df = df.reindex(sorted(df.columns), axis=1)\n",
        "\n",
        "    # Check if the DataFrame columns match the expected columns\n",
        "    if len(df.columns) == len(expected_col) and list(expected_col) == list(df.columns):\n",
        "        print(\"column name and column length validation passed\")\n",
        "        return 1\n",
        "    else:\n",
        "        print(\"column name and column length validation failed\")\n",
        "\n",
        "        # Identify and print mismatched columns\n",
        "        mismatched_columns_file = list(set(df.columns).difference(expected_col))\n",
        "        print(\"Following File columns are not in the YAML file:\", mismatched_columns_file)\n",
        "\n",
        "        # Identify and print missing columns\n",
        "        missing_YAML_file = list(set(expected_col).difference(df.columns))\n",
        "        print(\"Following YAML columns are not in the file uploaded:\", missing_YAML_file)\n",
        "\n",
        "        # Log detailed information about the columns\n",
        "        logging.info(f'df columns: {df.columns}')\n",
        "        logging.info(f'expected columns: {expected_col}')\n",
        "\n",
        "        return 0\n"
      ],
      "metadata": {
        "id": "Vf9iJ5o7B3KN",
        "colab": {
          "base_uri": "https://localhost:8080/"
        },
        "outputId": "728e9ec7-f6ee-4fdb-d5df-4f806d7d04fa"
      },
      "execution_count": 16,
      "outputs": [
        {
          "output_type": "stream",
          "name": "stdout",
          "text": [
            "Writing testutility.py\n"
          ]
        }
      ]
    },
    {
      "cell_type": "markdown",
      "source": [
        "Prepare the YAML file that parmetrize the process of data ingestion\n",
        "\n"
      ],
      "metadata": {
        "id": "HCx6Tm_tCLyJ"
      }
    },
    {
      "cell_type": "code",
      "source": [
        "%%writefile ingested_file_info.yaml\n",
        "file_type: csv\n",
        "dataset_name: Combined_Flights_2019\n",
        "file_name: Combined_Flights_2019\n",
        "table_name: Combined_Flights_2019\n",
        "inbound_delimiter: \",\"\n",
        "outbound_delimiter: \"|\"\n",
        "skip_leading_rows: 1\n",
        "columns:\n",
        "  - FlightDate\n",
        "  - Airline\n",
        "  - Origin\n",
        "  - Dest\n",
        "  - Cancelled\n",
        "  - Diverted\n",
        "  - CRSDepTime\n",
        "  - DepTime\n",
        "  - DepDelayMinutes\n",
        "  - DepDelay\n",
        "  - ArrTime\n",
        "  - ArrDelayMinutes\n",
        "  - AirTime\n",
        "  - CRSElapsedTime\n",
        "  - ActualElapsedTime\n",
        "  - Distance\n",
        "  - Year\n",
        "  - Quarter\n",
        "  - Month\n",
        "  - DayofMonth\n",
        "  - DayOfWeek\n",
        "  - Marketing_Airline_Network\n",
        "  - Operated_or_Branded_Code_Share_Partners\n",
        "  - DOT_ID_Marketing_Airline\n",
        "  - IATA_Code_Marketing_Airline\n",
        "  - Flight_Number_Marketing_Airline\n",
        "  - Operating_Airline\n",
        "  - DOT_ID_Operating_Airline\n",
        "  - IATA_Code_Operating_Airline\n",
        "  - Tail_Number\n",
        "  - Flight_Number_Operating_Airline\n",
        "  - OriginAirportID\n",
        "  - OriginAirportSeqID\n",
        "  - OriginCityMarketID\n",
        "  - OriginCityName\n",
        "  - OriginState\n",
        "  - OriginStateFips\n",
        "  - OriginStateName\n",
        "  - OriginWac\n",
        "  - DestAirportID\n",
        "  - DestAirportSeqID\n",
        "  - DestCityMarketID\n",
        "  - DestCityName\n",
        "  - DestState\n",
        "  - DestStateFips\n",
        "  - DestStateName\n",
        "  - DestWac\n",
        "  - DepDel15\n",
        "  - DepartureDelayGroups\n",
        "  - DepTimeBlk\n",
        "  - TaxiOut\n",
        "  - WheelsOff\n",
        "  - WheelsOn\n",
        "  - TaxiIn\n",
        "  - CRSArrTime\n",
        "  - ArrDelay\n",
        "  - ArrDel15\n",
        "  - ArrivalDelayGroups\n",
        "  - ArrTimeBlk\n",
        "  - DistanceGroup\n",
        "  - DivAirportLandings"
      ],
      "metadata": {
        "id": "OJvSgXGwCNJ5",
        "colab": {
          "base_uri": "https://localhost:8080/"
        },
        "outputId": "966ac01a-134d-4103-e96c-c5c595277348"
      },
      "execution_count": 17,
      "outputs": [
        {
          "output_type": "stream",
          "name": "stdout",
          "text": [
            "Writing ingested_file_info.yaml\n"
          ]
        }
      ]
    },
    {
      "cell_type": "code",
      "source": [
        "# Read config file\n",
        "import testutility as util\n",
        "config_data = util.read_config_file(\"ingested_file_info.yaml\")\n",
        "config_data"
      ],
      "metadata": {
        "id": "yQm0CbSHVb3A",
        "colab": {
          "base_uri": "https://localhost:8080/"
        },
        "outputId": "a4d0835b-a324-470a-e59f-ee44504593e1"
      },
      "execution_count": 18,
      "outputs": [
        {
          "output_type": "execute_result",
          "data": {
            "text/plain": [
              "{'file_type': 'csv',\n",
              " 'dataset_name': 'Combined_Flights_2019',\n",
              " 'file_name': 'Combined_Flights_2019',\n",
              " 'table_name': 'Combined_Flights_2019',\n",
              " 'inbound_delimiter': ',',\n",
              " 'outbound_delimiter': '|',\n",
              " 'skip_leading_rows': 1,\n",
              " 'columns': ['FlightDate',\n",
              "  'Airline',\n",
              "  'Origin',\n",
              "  'Dest',\n",
              "  'Cancelled',\n",
              "  'Diverted',\n",
              "  'CRSDepTime',\n",
              "  'DepTime',\n",
              "  'DepDelayMinutes',\n",
              "  'DepDelay',\n",
              "  'ArrTime',\n",
              "  'ArrDelayMinutes',\n",
              "  'AirTime',\n",
              "  'CRSElapsedTime',\n",
              "  'ActualElapsedTime',\n",
              "  'Distance',\n",
              "  'Year',\n",
              "  'Quarter',\n",
              "  'Month',\n",
              "  'DayofMonth',\n",
              "  'DayOfWeek',\n",
              "  'Marketing_Airline_Network',\n",
              "  'Operated_or_Branded_Code_Share_Partners',\n",
              "  'DOT_ID_Marketing_Airline',\n",
              "  'IATA_Code_Marketing_Airline',\n",
              "  'Flight_Number_Marketing_Airline',\n",
              "  'Operating_Airline',\n",
              "  'DOT_ID_Operating_Airline',\n",
              "  'IATA_Code_Operating_Airline',\n",
              "  'Tail_Number',\n",
              "  'Flight_Number_Operating_Airline',\n",
              "  'OriginAirportID',\n",
              "  'OriginAirportSeqID',\n",
              "  'OriginCityMarketID',\n",
              "  'OriginCityName',\n",
              "  'OriginState',\n",
              "  'OriginStateFips',\n",
              "  'OriginStateName',\n",
              "  'OriginWac',\n",
              "  'DestAirportID',\n",
              "  'DestAirportSeqID',\n",
              "  'DestCityMarketID',\n",
              "  'DestCityName',\n",
              "  'DestState',\n",
              "  'DestStateFips',\n",
              "  'DestStateName',\n",
              "  'DestWac',\n",
              "  'DepDel15',\n",
              "  'DepartureDelayGroups',\n",
              "  'DepTimeBlk',\n",
              "  'TaxiOut',\n",
              "  'WheelsOff',\n",
              "  'WheelsOn',\n",
              "  'TaxiIn',\n",
              "  'CRSArrTime',\n",
              "  'ArrDelay',\n",
              "  'ArrDel15',\n",
              "  'ArrivalDelayGroups',\n",
              "  'ArrTimeBlk',\n",
              "  'DistanceGroup',\n",
              "  'DivAirportLandings']}"
            ]
          },
          "metadata": {},
          "execution_count": 18
        }
      ]
    },
    {
      "cell_type": "code",
      "source": [
        "import os\n",
        "# Google Drive path after MyDrive\n",
        "GOOGLE_DRIVE_PATH_AFTER_MYDRIVE = 'Combined_Flights_2019.csv'\n",
        "\n",
        "# Construct full Google Drive path\n",
        "GOOGLE_DRIVE_PATH = '/content/drive/MyDrive'\n",
        "\n",
        "# Read the file using the config file\n",
        "file_type = config_data['file_type']\n",
        "file_name = config_data['file_name']\n",
        "delimiter = config_data['inbound_delimiter']\n",
        "\n",
        "# Construct the full source file path\n",
        "source_file = os.path.join(GOOGLE_DRIVE_PATH, GOOGLE_DRIVE_PATH_AFTER_MYDRIVE)\n",
        "\n",
        "print(\"Source File Path:\", source_file)\n",
        "\n",
        "# Read the file into a DataFrame\n",
        "df = pd.read_csv(source_file, delimiter=delimiter)\n",
        "df.head(5)\n"
      ],
      "metadata": {
        "colab": {
          "base_uri": "https://localhost:8080/",
          "height": 360
        },
        "id": "eQ7WpEaBGA9c",
        "outputId": "db1255d8-a154-4dcf-e978-a6ddcb289da8"
      },
      "execution_count": 19,
      "outputs": [
        {
          "output_type": "stream",
          "name": "stdout",
          "text": [
            "Source File Path: /content/drive/MyDrive/Combined_Flights_2019.csv\n"
          ]
        },
        {
          "output_type": "execute_result",
          "data": {
            "text/plain": [
              "   FlightDate    Airline Origin Dest  Cancelled  Diverted  CRSDepTime  \\\n",
              "0  2019-04-01  Envoy Air    LIT  ORD      False     False        1212   \n",
              "1  2019-04-02  Envoy Air    LIT  ORD      False     False        1212   \n",
              "2  2019-04-03  Envoy Air    LIT  ORD      False     False        1212   \n",
              "3  2019-04-04  Envoy Air    LIT  ORD      False     False        1212   \n",
              "4  2019-04-05  Envoy Air    LIT  ORD      False     False        1212   \n",
              "\n",
              "   DepTime  DepDelayMinutes  DepDelay  ...  WheelsOff  WheelsOn  TaxiIn  \\\n",
              "0   1209.0              0.0      -3.0  ...     1219.0    1342.0     8.0   \n",
              "1   1200.0              0.0     -12.0  ...     1210.0    1339.0     9.0   \n",
              "2   1203.0              0.0      -9.0  ...     1214.0    1336.0     6.0   \n",
              "3   1435.0            143.0     143.0  ...     1452.0    1615.0     6.0   \n",
              "4   1216.0              4.0       4.0  ...     1234.0    1357.0    13.0   \n",
              "\n",
              "   CRSArrTime  ArrDelay  ArrDel15  ArrivalDelayGroups  ArrTimeBlk  \\\n",
              "0        1405     -15.0       0.0                -1.0   1400-1459   \n",
              "1        1405     -17.0       0.0                -2.0   1400-1459   \n",
              "2        1405     -23.0       0.0                -2.0   1400-1459   \n",
              "3        1405     136.0       1.0                 9.0   1400-1459   \n",
              "4        1405       5.0       0.0                 0.0   1400-1459   \n",
              "\n",
              "   DistanceGroup  DivAirportLandings  \n",
              "0              3                   0  \n",
              "1              3                   0  \n",
              "2              3                   0  \n",
              "3              3                   0  \n",
              "4              3                   0  \n",
              "\n",
              "[5 rows x 61 columns]"
            ],
            "text/html": [
              "\n",
              "  <div id=\"df-5c7d77b9-2918-4cde-ac1a-0b1eefbc3ba0\" class=\"colab-df-container\">\n",
              "    <div>\n",
              "<style scoped>\n",
              "    .dataframe tbody tr th:only-of-type {\n",
              "        vertical-align: middle;\n",
              "    }\n",
              "\n",
              "    .dataframe tbody tr th {\n",
              "        vertical-align: top;\n",
              "    }\n",
              "\n",
              "    .dataframe thead th {\n",
              "        text-align: right;\n",
              "    }\n",
              "</style>\n",
              "<table border=\"1\" class=\"dataframe\">\n",
              "  <thead>\n",
              "    <tr style=\"text-align: right;\">\n",
              "      <th></th>\n",
              "      <th>FlightDate</th>\n",
              "      <th>Airline</th>\n",
              "      <th>Origin</th>\n",
              "      <th>Dest</th>\n",
              "      <th>Cancelled</th>\n",
              "      <th>Diverted</th>\n",
              "      <th>CRSDepTime</th>\n",
              "      <th>DepTime</th>\n",
              "      <th>DepDelayMinutes</th>\n",
              "      <th>DepDelay</th>\n",
              "      <th>...</th>\n",
              "      <th>WheelsOff</th>\n",
              "      <th>WheelsOn</th>\n",
              "      <th>TaxiIn</th>\n",
              "      <th>CRSArrTime</th>\n",
              "      <th>ArrDelay</th>\n",
              "      <th>ArrDel15</th>\n",
              "      <th>ArrivalDelayGroups</th>\n",
              "      <th>ArrTimeBlk</th>\n",
              "      <th>DistanceGroup</th>\n",
              "      <th>DivAirportLandings</th>\n",
              "    </tr>\n",
              "  </thead>\n",
              "  <tbody>\n",
              "    <tr>\n",
              "      <th>0</th>\n",
              "      <td>2019-04-01</td>\n",
              "      <td>Envoy Air</td>\n",
              "      <td>LIT</td>\n",
              "      <td>ORD</td>\n",
              "      <td>False</td>\n",
              "      <td>False</td>\n",
              "      <td>1212</td>\n",
              "      <td>1209.0</td>\n",
              "      <td>0.0</td>\n",
              "      <td>-3.0</td>\n",
              "      <td>...</td>\n",
              "      <td>1219.0</td>\n",
              "      <td>1342.0</td>\n",
              "      <td>8.0</td>\n",
              "      <td>1405</td>\n",
              "      <td>-15.0</td>\n",
              "      <td>0.0</td>\n",
              "      <td>-1.0</td>\n",
              "      <td>1400-1459</td>\n",
              "      <td>3</td>\n",
              "      <td>0</td>\n",
              "    </tr>\n",
              "    <tr>\n",
              "      <th>1</th>\n",
              "      <td>2019-04-02</td>\n",
              "      <td>Envoy Air</td>\n",
              "      <td>LIT</td>\n",
              "      <td>ORD</td>\n",
              "      <td>False</td>\n",
              "      <td>False</td>\n",
              "      <td>1212</td>\n",
              "      <td>1200.0</td>\n",
              "      <td>0.0</td>\n",
              "      <td>-12.0</td>\n",
              "      <td>...</td>\n",
              "      <td>1210.0</td>\n",
              "      <td>1339.0</td>\n",
              "      <td>9.0</td>\n",
              "      <td>1405</td>\n",
              "      <td>-17.0</td>\n",
              "      <td>0.0</td>\n",
              "      <td>-2.0</td>\n",
              "      <td>1400-1459</td>\n",
              "      <td>3</td>\n",
              "      <td>0</td>\n",
              "    </tr>\n",
              "    <tr>\n",
              "      <th>2</th>\n",
              "      <td>2019-04-03</td>\n",
              "      <td>Envoy Air</td>\n",
              "      <td>LIT</td>\n",
              "      <td>ORD</td>\n",
              "      <td>False</td>\n",
              "      <td>False</td>\n",
              "      <td>1212</td>\n",
              "      <td>1203.0</td>\n",
              "      <td>0.0</td>\n",
              "      <td>-9.0</td>\n",
              "      <td>...</td>\n",
              "      <td>1214.0</td>\n",
              "      <td>1336.0</td>\n",
              "      <td>6.0</td>\n",
              "      <td>1405</td>\n",
              "      <td>-23.0</td>\n",
              "      <td>0.0</td>\n",
              "      <td>-2.0</td>\n",
              "      <td>1400-1459</td>\n",
              "      <td>3</td>\n",
              "      <td>0</td>\n",
              "    </tr>\n",
              "    <tr>\n",
              "      <th>3</th>\n",
              "      <td>2019-04-04</td>\n",
              "      <td>Envoy Air</td>\n",
              "      <td>LIT</td>\n",
              "      <td>ORD</td>\n",
              "      <td>False</td>\n",
              "      <td>False</td>\n",
              "      <td>1212</td>\n",
              "      <td>1435.0</td>\n",
              "      <td>143.0</td>\n",
              "      <td>143.0</td>\n",
              "      <td>...</td>\n",
              "      <td>1452.0</td>\n",
              "      <td>1615.0</td>\n",
              "      <td>6.0</td>\n",
              "      <td>1405</td>\n",
              "      <td>136.0</td>\n",
              "      <td>1.0</td>\n",
              "      <td>9.0</td>\n",
              "      <td>1400-1459</td>\n",
              "      <td>3</td>\n",
              "      <td>0</td>\n",
              "    </tr>\n",
              "    <tr>\n",
              "      <th>4</th>\n",
              "      <td>2019-04-05</td>\n",
              "      <td>Envoy Air</td>\n",
              "      <td>LIT</td>\n",
              "      <td>ORD</td>\n",
              "      <td>False</td>\n",
              "      <td>False</td>\n",
              "      <td>1212</td>\n",
              "      <td>1216.0</td>\n",
              "      <td>4.0</td>\n",
              "      <td>4.0</td>\n",
              "      <td>...</td>\n",
              "      <td>1234.0</td>\n",
              "      <td>1357.0</td>\n",
              "      <td>13.0</td>\n",
              "      <td>1405</td>\n",
              "      <td>5.0</td>\n",
              "      <td>0.0</td>\n",
              "      <td>0.0</td>\n",
              "      <td>1400-1459</td>\n",
              "      <td>3</td>\n",
              "      <td>0</td>\n",
              "    </tr>\n",
              "  </tbody>\n",
              "</table>\n",
              "<p>5 rows × 61 columns</p>\n",
              "</div>\n",
              "    <div class=\"colab-df-buttons\">\n",
              "\n",
              "  <div class=\"colab-df-container\">\n",
              "    <button class=\"colab-df-convert\" onclick=\"convertToInteractive('df-5c7d77b9-2918-4cde-ac1a-0b1eefbc3ba0')\"\n",
              "            title=\"Convert this dataframe to an interactive table.\"\n",
              "            style=\"display:none;\">\n",
              "\n",
              "  <svg xmlns=\"http://www.w3.org/2000/svg\" height=\"24px\" viewBox=\"0 -960 960 960\">\n",
              "    <path d=\"M120-120v-720h720v720H120Zm60-500h600v-160H180v160Zm220 220h160v-160H400v160Zm0 220h160v-160H400v160ZM180-400h160v-160H180v160Zm440 0h160v-160H620v160ZM180-180h160v-160H180v160Zm440 0h160v-160H620v160Z\"/>\n",
              "  </svg>\n",
              "    </button>\n",
              "\n",
              "  <style>\n",
              "    .colab-df-container {\n",
              "      display:flex;\n",
              "      gap: 12px;\n",
              "    }\n",
              "\n",
              "    .colab-df-convert {\n",
              "      background-color: #E8F0FE;\n",
              "      border: none;\n",
              "      border-radius: 50%;\n",
              "      cursor: pointer;\n",
              "      display: none;\n",
              "      fill: #1967D2;\n",
              "      height: 32px;\n",
              "      padding: 0 0 0 0;\n",
              "      width: 32px;\n",
              "    }\n",
              "\n",
              "    .colab-df-convert:hover {\n",
              "      background-color: #E2EBFA;\n",
              "      box-shadow: 0px 1px 2px rgba(60, 64, 67, 0.3), 0px 1px 3px 1px rgba(60, 64, 67, 0.15);\n",
              "      fill: #174EA6;\n",
              "    }\n",
              "\n",
              "    .colab-df-buttons div {\n",
              "      margin-bottom: 4px;\n",
              "    }\n",
              "\n",
              "    [theme=dark] .colab-df-convert {\n",
              "      background-color: #3B4455;\n",
              "      fill: #D2E3FC;\n",
              "    }\n",
              "\n",
              "    [theme=dark] .colab-df-convert:hover {\n",
              "      background-color: #434B5C;\n",
              "      box-shadow: 0px 1px 3px 1px rgba(0, 0, 0, 0.15);\n",
              "      filter: drop-shadow(0px 1px 2px rgba(0, 0, 0, 0.3));\n",
              "      fill: #FFFFFF;\n",
              "    }\n",
              "  </style>\n",
              "\n",
              "    <script>\n",
              "      const buttonEl =\n",
              "        document.querySelector('#df-5c7d77b9-2918-4cde-ac1a-0b1eefbc3ba0 button.colab-df-convert');\n",
              "      buttonEl.style.display =\n",
              "        google.colab.kernel.accessAllowed ? 'block' : 'none';\n",
              "\n",
              "      async function convertToInteractive(key) {\n",
              "        const element = document.querySelector('#df-5c7d77b9-2918-4cde-ac1a-0b1eefbc3ba0');\n",
              "        const dataTable =\n",
              "          await google.colab.kernel.invokeFunction('convertToInteractive',\n",
              "                                                    [key], {});\n",
              "        if (!dataTable) return;\n",
              "\n",
              "        const docLinkHtml = 'Like what you see? Visit the ' +\n",
              "          '<a target=\"_blank\" href=https://colab.research.google.com/notebooks/data_table.ipynb>data table notebook</a>'\n",
              "          + ' to learn more about interactive tables.';\n",
              "        element.innerHTML = '';\n",
              "        dataTable['output_type'] = 'display_data';\n",
              "        await google.colab.output.renderOutput(dataTable, element);\n",
              "        const docLink = document.createElement('div');\n",
              "        docLink.innerHTML = docLinkHtml;\n",
              "        element.appendChild(docLink);\n",
              "      }\n",
              "    </script>\n",
              "  </div>\n",
              "\n",
              "\n",
              "<div id=\"df-6a5848ff-3d11-4695-a0ab-3df6f239d221\">\n",
              "  <button class=\"colab-df-quickchart\" onclick=\"quickchart('df-6a5848ff-3d11-4695-a0ab-3df6f239d221')\"\n",
              "            title=\"Suggest charts\"\n",
              "            style=\"display:none;\">\n",
              "\n",
              "<svg xmlns=\"http://www.w3.org/2000/svg\" height=\"24px\"viewBox=\"0 0 24 24\"\n",
              "     width=\"24px\">\n",
              "    <g>\n",
              "        <path d=\"M19 3H5c-1.1 0-2 .9-2 2v14c0 1.1.9 2 2 2h14c1.1 0 2-.9 2-2V5c0-1.1-.9-2-2-2zM9 17H7v-7h2v7zm4 0h-2V7h2v10zm4 0h-2v-4h2v4z\"/>\n",
              "    </g>\n",
              "</svg>\n",
              "  </button>\n",
              "\n",
              "<style>\n",
              "  .colab-df-quickchart {\n",
              "      --bg-color: #E8F0FE;\n",
              "      --fill-color: #1967D2;\n",
              "      --hover-bg-color: #E2EBFA;\n",
              "      --hover-fill-color: #174EA6;\n",
              "      --disabled-fill-color: #AAA;\n",
              "      --disabled-bg-color: #DDD;\n",
              "  }\n",
              "\n",
              "  [theme=dark] .colab-df-quickchart {\n",
              "      --bg-color: #3B4455;\n",
              "      --fill-color: #D2E3FC;\n",
              "      --hover-bg-color: #434B5C;\n",
              "      --hover-fill-color: #FFFFFF;\n",
              "      --disabled-bg-color: #3B4455;\n",
              "      --disabled-fill-color: #666;\n",
              "  }\n",
              "\n",
              "  .colab-df-quickchart {\n",
              "    background-color: var(--bg-color);\n",
              "    border: none;\n",
              "    border-radius: 50%;\n",
              "    cursor: pointer;\n",
              "    display: none;\n",
              "    fill: var(--fill-color);\n",
              "    height: 32px;\n",
              "    padding: 0;\n",
              "    width: 32px;\n",
              "  }\n",
              "\n",
              "  .colab-df-quickchart:hover {\n",
              "    background-color: var(--hover-bg-color);\n",
              "    box-shadow: 0 1px 2px rgba(60, 64, 67, 0.3), 0 1px 3px 1px rgba(60, 64, 67, 0.15);\n",
              "    fill: var(--button-hover-fill-color);\n",
              "  }\n",
              "\n",
              "  .colab-df-quickchart-complete:disabled,\n",
              "  .colab-df-quickchart-complete:disabled:hover {\n",
              "    background-color: var(--disabled-bg-color);\n",
              "    fill: var(--disabled-fill-color);\n",
              "    box-shadow: none;\n",
              "  }\n",
              "\n",
              "  .colab-df-spinner {\n",
              "    border: 2px solid var(--fill-color);\n",
              "    border-color: transparent;\n",
              "    border-bottom-color: var(--fill-color);\n",
              "    animation:\n",
              "      spin 1s steps(1) infinite;\n",
              "  }\n",
              "\n",
              "  @keyframes spin {\n",
              "    0% {\n",
              "      border-color: transparent;\n",
              "      border-bottom-color: var(--fill-color);\n",
              "      border-left-color: var(--fill-color);\n",
              "    }\n",
              "    20% {\n",
              "      border-color: transparent;\n",
              "      border-left-color: var(--fill-color);\n",
              "      border-top-color: var(--fill-color);\n",
              "    }\n",
              "    30% {\n",
              "      border-color: transparent;\n",
              "      border-left-color: var(--fill-color);\n",
              "      border-top-color: var(--fill-color);\n",
              "      border-right-color: var(--fill-color);\n",
              "    }\n",
              "    40% {\n",
              "      border-color: transparent;\n",
              "      border-right-color: var(--fill-color);\n",
              "      border-top-color: var(--fill-color);\n",
              "    }\n",
              "    60% {\n",
              "      border-color: transparent;\n",
              "      border-right-color: var(--fill-color);\n",
              "    }\n",
              "    80% {\n",
              "      border-color: transparent;\n",
              "      border-right-color: var(--fill-color);\n",
              "      border-bottom-color: var(--fill-color);\n",
              "    }\n",
              "    90% {\n",
              "      border-color: transparent;\n",
              "      border-bottom-color: var(--fill-color);\n",
              "    }\n",
              "  }\n",
              "</style>\n",
              "\n",
              "  <script>\n",
              "    async function quickchart(key) {\n",
              "      const quickchartButtonEl =\n",
              "        document.querySelector('#' + key + ' button');\n",
              "      quickchartButtonEl.disabled = true;  // To prevent multiple clicks.\n",
              "      quickchartButtonEl.classList.add('colab-df-spinner');\n",
              "      try {\n",
              "        const charts = await google.colab.kernel.invokeFunction(\n",
              "            'suggestCharts', [key], {});\n",
              "      } catch (error) {\n",
              "        console.error('Error during call to suggestCharts:', error);\n",
              "      }\n",
              "      quickchartButtonEl.classList.remove('colab-df-spinner');\n",
              "      quickchartButtonEl.classList.add('colab-df-quickchart-complete');\n",
              "    }\n",
              "    (() => {\n",
              "      let quickchartButtonEl =\n",
              "        document.querySelector('#df-6a5848ff-3d11-4695-a0ab-3df6f239d221 button');\n",
              "      quickchartButtonEl.style.display =\n",
              "        google.colab.kernel.accessAllowed ? 'block' : 'none';\n",
              "    })();\n",
              "  </script>\n",
              "</div>\n",
              "    </div>\n",
              "  </div>\n"
            ],
            "application/vnd.google.colaboratory.intrinsic+json": {
              "type": "dataframe",
              "variable_name": "df"
            }
          },
          "metadata": {},
          "execution_count": 19
        }
      ]
    },
    {
      "cell_type": "code",
      "source": [
        "# validate the header of the file\n",
        "import testutility as util\n",
        "util.col_header_val(df,config_data)"
      ],
      "metadata": {
        "colab": {
          "base_uri": "https://localhost:8080/"
        },
        "id": "cf2-bo9VHqbO",
        "outputId": "5d00b368-2340-4332-ab3d-e591ad6e85aa"
      },
      "execution_count": 20,
      "outputs": [
        {
          "output_type": "stream",
          "name": "stdout",
          "text": [
            "column name and column length validation passed\n"
          ]
        },
        {
          "output_type": "execute_result",
          "data": {
            "text/plain": [
              "1"
            ]
          },
          "metadata": {},
          "execution_count": 20
        }
      ]
    },
    {
      "cell_type": "code",
      "source": [
        "print(\"columns of files are:\" ,df.columns.tolist())\n",
        "print(\"columns of YAML are:\" ,config_data['columns'])"
      ],
      "metadata": {
        "id": "La7AzLhsInKR",
        "colab": {
          "base_uri": "https://localhost:8080/"
        },
        "outputId": "972f98c9-f4bf-4060-dfa6-99c025a3a45b"
      },
      "execution_count": 21,
      "outputs": [
        {
          "output_type": "stream",
          "name": "stdout",
          "text": [
            "columns of files are: ['flightdate', 'airline', 'origin', 'dest', 'cancelled', 'diverted', 'crsdeptime', 'deptime', 'depdelayminutes', 'depdelay', 'arrtime', 'arrdelayminutes', 'airtime', 'crselapsedtime', 'actualelapsedtime', 'distance', 'year', 'quarter', 'month', 'dayofmonth', 'dayofweek', 'marketing_airline_network', 'operated_or_branded_code_share_partners', 'dot_id_marketing_airline', 'iata_code_marketing_airline', 'flight_number_marketing_airline', 'operating_airline', 'dot_id_operating_airline', 'iata_code_operating_airline', 'tail_number', 'flight_number_operating_airline', 'originairportid', 'originairportseqid', 'origincitymarketid', 'origincityname', 'originstate', 'originstatefips', 'originstatename', 'originwac', 'destairportid', 'destairportseqid', 'destcitymarketid', 'destcityname', 'deststate', 'deststatefips', 'deststatename', 'destwac', 'depdel15', 'departuredelaygroups', 'deptimeblk', 'taxiout', 'wheelsoff', 'wheelson', 'taxiin', 'crsarrtime', 'arrdelay', 'arrdel15', 'arrivaldelaygroups', 'arrtimeblk', 'distancegroup', 'divairportlandings']\n",
            "columns of YAML are: ['FlightDate', 'Airline', 'Origin', 'Dest', 'Cancelled', 'Diverted', 'CRSDepTime', 'DepTime', 'DepDelayMinutes', 'DepDelay', 'ArrTime', 'ArrDelayMinutes', 'AirTime', 'CRSElapsedTime', 'ActualElapsedTime', 'Distance', 'Year', 'Quarter', 'Month', 'DayofMonth', 'DayOfWeek', 'Marketing_Airline_Network', 'Operated_or_Branded_Code_Share_Partners', 'DOT_ID_Marketing_Airline', 'IATA_Code_Marketing_Airline', 'Flight_Number_Marketing_Airline', 'Operating_Airline', 'DOT_ID_Operating_Airline', 'IATA_Code_Operating_Airline', 'Tail_Number', 'Flight_Number_Operating_Airline', 'OriginAirportID', 'OriginAirportSeqID', 'OriginCityMarketID', 'OriginCityName', 'OriginState', 'OriginStateFips', 'OriginStateName', 'OriginWac', 'DestAirportID', 'DestAirportSeqID', 'DestCityMarketID', 'DestCityName', 'DestState', 'DestStateFips', 'DestStateName', 'DestWac', 'DepDel15', 'DepartureDelayGroups', 'DepTimeBlk', 'TaxiOut', 'WheelsOff', 'WheelsOn', 'TaxiIn', 'CRSArrTime', 'ArrDelay', 'ArrDel15', 'ArrivalDelayGroups', 'ArrTimeBlk', 'DistanceGroup', 'DivAirportLandings']\n"
          ]
        }
      ]
    },
    {
      "cell_type": "code",
      "source": [
        "if util.col_header_val(df,config_data)==0:\n",
        "    print(\"validation failed\")\n",
        "    # write code to reject the file\n",
        "else:\n",
        "    print(\"col validation passed\")\n",
        "    # write the code to perform further action in the pipleine"
      ],
      "metadata": {
        "colab": {
          "base_uri": "https://localhost:8080/"
        },
        "id": "TOKbTPVQEUeD",
        "outputId": "b55e2e96-d834-4ec5-e669-7f8351816804"
      },
      "execution_count": 22,
      "outputs": [
        {
          "output_type": "stream",
          "name": "stdout",
          "text": [
            "column name and column length validation passed\n",
            "col validation passed\n"
          ]
        }
      ]
    },
    {
      "cell_type": "markdown",
      "source": [
        "# Writing the data file to zipped (.gz) pipe delimited txt file.\n"
      ],
      "metadata": {
        "id": "sOlP0kXCJ_5E"
      }
    },
    {
      "cell_type": "code",
      "source": [
        "df.to_csv('data.txt.gz', sep='|',index=False,compression='gzip')\n"
      ],
      "metadata": {
        "id": "gIFPK3W1KRGC"
      },
      "execution_count": 23,
      "outputs": []
    },
    {
      "cell_type": "markdown",
      "source": [
        "# Summary of the data file\n"
      ],
      "metadata": {
        "id": "-yyt_lCrKce5"
      }
    },
    {
      "cell_type": "code",
      "source": [
        "print(\"The size of the .gz file = {:.2f} MB \\nThe size of original csv file = {:.2f} GB \".format(os.stat('data.txt.gz').st_size/(1024*1024),os.stat(source_file).st_size/(1024*1024*1024)))\n",
        "print(\"The number of columns = {} \\nThe number of rows = {}\".format(len(df.columns.tolist()),len(df)))\n"
      ],
      "metadata": {
        "colab": {
          "base_uri": "https://localhost:8080/"
        },
        "id": "m8rorwMAKiAp",
        "outputId": "d779cfea-ef99-42ef-890e-409793d764db"
      },
      "execution_count": 24,
      "outputs": [
        {
          "output_type": "stream",
          "name": "stdout",
          "text": [
            "The size of the .gz file = 384.77 MB \n",
            "The size of original csv file = 2.63 GB \n",
            "The number of columns = 61 \n",
            "The number of rows = 8091684\n"
          ]
        }
      ]
    },
    {
      "cell_type": "markdown",
      "source": [
        "#References:\n",
        "1. https://datascience.stackexchange.com/questions/85590/how-do-i-transform-a-file-to-txt-file-using-pandas\n",
        "2. https://www.geeksforgeeks.org/working-with-large-csv-files-in-python/\n",
        "3. https://www.kaggle.com/code/robikscube/flight-cancellation-dataset-eda"
      ],
      "metadata": {
        "id": "BuoYLcfbK_fB"
      }
    },
    {
      "cell_type": "code",
      "source": [],
      "metadata": {
        "id": "-lLGn4aLLVuI"
      },
      "execution_count": null,
      "outputs": []
    }
  ],
  "metadata": {
    "colab": {
      "provenance": [],
      "gpuType": "V28",
      "mount_file_id": "1SfrH1SDiipe2co2eI1L7wpmsyOf_Te7p",
      "authorship_tag": "ABX9TyNlVvmOxs0+z0q5163YNKHx",
      "include_colab_link": true
    },
    "kernelspec": {
      "display_name": "Python 3",
      "name": "python3"
    },
    "language_info": {
      "name": "python"
    },
    "accelerator": "TPU",
    "widgets": {
      "application/vnd.jupyter.widget-state+json": {
        "b9589382e3f34debbca1fd8faf9d119e": {
          "model_module": "@jupyter-widgets/controls",
          "model_name": "HBoxModel",
          "model_module_version": "1.5.0",
          "state": {
            "_dom_classes": [],
            "_model_module": "@jupyter-widgets/controls",
            "_model_module_version": "1.5.0",
            "_model_name": "HBoxModel",
            "_view_count": null,
            "_view_module": "@jupyter-widgets/controls",
            "_view_module_version": "1.5.0",
            "_view_name": "HBoxView",
            "box_style": "",
            "children": [
              "IPY_MODEL_8ef8bfc44e72499097f6656802faaeba",
              "IPY_MODEL_4388041828714d91b041b95443b2ab95",
              "IPY_MODEL_2845ead028ad4f70ae74b2098bc4bbf1"
            ],
            "layout": "IPY_MODEL_79d39df2683f4d0fb7166145216d9b37"
          }
        },
        "8ef8bfc44e72499097f6656802faaeba": {
          "model_module": "@jupyter-widgets/controls",
          "model_name": "HTMLModel",
          "model_module_version": "1.5.0",
          "state": {
            "_dom_classes": [],
            "_model_module": "@jupyter-widgets/controls",
            "_model_module_version": "1.5.0",
            "_model_name": "HTMLModel",
            "_view_count": null,
            "_view_module": "@jupyter-widgets/controls",
            "_view_module_version": "1.5.0",
            "_view_name": "HTMLView",
            "description": "",
            "description_tooltip": null,
            "layout": "IPY_MODEL_5f577be7061d4d40beae5e393379bc1c",
            "placeholder": "​",
            "style": "IPY_MODEL_fe7ade6e2b2945a08227f066348422ec",
            "value": "Read progress 0:   0%"
          }
        },
        "4388041828714d91b041b95443b2ab95": {
          "model_module": "@jupyter-widgets/controls",
          "model_name": "FloatProgressModel",
          "model_module_version": "1.5.0",
          "state": {
            "_dom_classes": [],
            "_model_module": "@jupyter-widgets/controls",
            "_model_module_version": "1.5.0",
            "_model_name": "FloatProgressModel",
            "_view_count": null,
            "_view_module": "@jupyter-widgets/controls",
            "_view_module_version": "1.5.0",
            "_view_name": "ProgressView",
            "bar_style": "danger",
            "description": "",
            "description_tooltip": null,
            "layout": "IPY_MODEL_5c6983e5819e41a4a96b3ac095d207d8",
            "max": 1,
            "min": 0,
            "orientation": "horizontal",
            "style": "IPY_MODEL_053e6494ba3c4dccaa0c19bb84cb7423",
            "value": 0
          }
        },
        "2845ead028ad4f70ae74b2098bc4bbf1": {
          "model_module": "@jupyter-widgets/controls",
          "model_name": "HTMLModel",
          "model_module_version": "1.5.0",
          "state": {
            "_dom_classes": [],
            "_model_module": "@jupyter-widgets/controls",
            "_model_module_version": "1.5.0",
            "_model_name": "HTMLModel",
            "_view_count": null,
            "_view_module": "@jupyter-widgets/controls",
            "_view_module_version": "1.5.0",
            "_view_name": "HTMLView",
            "description": "",
            "description_tooltip": null,
            "layout": "IPY_MODEL_824508b52a5f489299748f444ad3f40f",
            "placeholder": "​",
            "style": "IPY_MODEL_69b4215f22b540a4a8d3dbae5ab7b516",
            "value": " 0/1 [00:41&lt;?, ?it/s]"
          }
        },
        "79d39df2683f4d0fb7166145216d9b37": {
          "model_module": "@jupyter-widgets/base",
          "model_name": "LayoutModel",
          "model_module_version": "1.2.0",
          "state": {
            "_model_module": "@jupyter-widgets/base",
            "_model_module_version": "1.2.0",
            "_model_name": "LayoutModel",
            "_view_count": null,
            "_view_module": "@jupyter-widgets/base",
            "_view_module_version": "1.2.0",
            "_view_name": "LayoutView",
            "align_content": null,
            "align_items": null,
            "align_self": null,
            "border": null,
            "bottom": null,
            "display": "inline-flex",
            "flex": null,
            "flex_flow": "row wrap",
            "grid_area": null,
            "grid_auto_columns": null,
            "grid_auto_flow": null,
            "grid_auto_rows": null,
            "grid_column": null,
            "grid_gap": null,
            "grid_row": null,
            "grid_template_areas": null,
            "grid_template_columns": null,
            "grid_template_rows": null,
            "height": null,
            "justify_content": null,
            "justify_items": null,
            "left": null,
            "margin": null,
            "max_height": null,
            "max_width": null,
            "min_height": null,
            "min_width": null,
            "object_fit": null,
            "object_position": null,
            "order": null,
            "overflow": null,
            "overflow_x": null,
            "overflow_y": null,
            "padding": null,
            "right": null,
            "top": null,
            "visibility": null,
            "width": "100%"
          }
        },
        "5f577be7061d4d40beae5e393379bc1c": {
          "model_module": "@jupyter-widgets/base",
          "model_name": "LayoutModel",
          "model_module_version": "1.2.0",
          "state": {
            "_model_module": "@jupyter-widgets/base",
            "_model_module_version": "1.2.0",
            "_model_name": "LayoutModel",
            "_view_count": null,
            "_view_module": "@jupyter-widgets/base",
            "_view_module_version": "1.2.0",
            "_view_name": "LayoutView",
            "align_content": null,
            "align_items": null,
            "align_self": null,
            "border": null,
            "bottom": null,
            "display": null,
            "flex": null,
            "flex_flow": null,
            "grid_area": null,
            "grid_auto_columns": null,
            "grid_auto_flow": null,
            "grid_auto_rows": null,
            "grid_column": null,
            "grid_gap": null,
            "grid_row": null,
            "grid_template_areas": null,
            "grid_template_columns": null,
            "grid_template_rows": null,
            "height": null,
            "justify_content": null,
            "justify_items": null,
            "left": null,
            "margin": null,
            "max_height": null,
            "max_width": null,
            "min_height": null,
            "min_width": null,
            "object_fit": null,
            "object_position": null,
            "order": null,
            "overflow": null,
            "overflow_x": null,
            "overflow_y": null,
            "padding": null,
            "right": null,
            "top": null,
            "visibility": null,
            "width": null
          }
        },
        "fe7ade6e2b2945a08227f066348422ec": {
          "model_module": "@jupyter-widgets/controls",
          "model_name": "DescriptionStyleModel",
          "model_module_version": "1.5.0",
          "state": {
            "_model_module": "@jupyter-widgets/controls",
            "_model_module_version": "1.5.0",
            "_model_name": "DescriptionStyleModel",
            "_view_count": null,
            "_view_module": "@jupyter-widgets/base",
            "_view_module_version": "1.2.0",
            "_view_name": "StyleView",
            "description_width": ""
          }
        },
        "5c6983e5819e41a4a96b3ac095d207d8": {
          "model_module": "@jupyter-widgets/base",
          "model_name": "LayoutModel",
          "model_module_version": "1.2.0",
          "state": {
            "_model_module": "@jupyter-widgets/base",
            "_model_module_version": "1.2.0",
            "_model_name": "LayoutModel",
            "_view_count": null,
            "_view_module": "@jupyter-widgets/base",
            "_view_module_version": "1.2.0",
            "_view_name": "LayoutView",
            "align_content": null,
            "align_items": null,
            "align_self": null,
            "border": null,
            "bottom": null,
            "display": null,
            "flex": "2",
            "flex_flow": null,
            "grid_area": null,
            "grid_auto_columns": null,
            "grid_auto_flow": null,
            "grid_auto_rows": null,
            "grid_column": null,
            "grid_gap": null,
            "grid_row": null,
            "grid_template_areas": null,
            "grid_template_columns": null,
            "grid_template_rows": null,
            "height": null,
            "justify_content": null,
            "justify_items": null,
            "left": null,
            "margin": null,
            "max_height": null,
            "max_width": null,
            "min_height": null,
            "min_width": null,
            "object_fit": null,
            "object_position": null,
            "order": null,
            "overflow": null,
            "overflow_x": null,
            "overflow_y": null,
            "padding": null,
            "right": null,
            "top": null,
            "visibility": null,
            "width": null
          }
        },
        "053e6494ba3c4dccaa0c19bb84cb7423": {
          "model_module": "@jupyter-widgets/controls",
          "model_name": "ProgressStyleModel",
          "model_module_version": "1.5.0",
          "state": {
            "_model_module": "@jupyter-widgets/controls",
            "_model_module_version": "1.5.0",
            "_model_name": "ProgressStyleModel",
            "_view_count": null,
            "_view_module": "@jupyter-widgets/base",
            "_view_module_version": "1.2.0",
            "_view_name": "StyleView",
            "bar_color": null,
            "description_width": ""
          }
        },
        "824508b52a5f489299748f444ad3f40f": {
          "model_module": "@jupyter-widgets/base",
          "model_name": "LayoutModel",
          "model_module_version": "1.2.0",
          "state": {
            "_model_module": "@jupyter-widgets/base",
            "_model_module_version": "1.2.0",
            "_model_name": "LayoutModel",
            "_view_count": null,
            "_view_module": "@jupyter-widgets/base",
            "_view_module_version": "1.2.0",
            "_view_name": "LayoutView",
            "align_content": null,
            "align_items": null,
            "align_self": null,
            "border": null,
            "bottom": null,
            "display": null,
            "flex": null,
            "flex_flow": null,
            "grid_area": null,
            "grid_auto_columns": null,
            "grid_auto_flow": null,
            "grid_auto_rows": null,
            "grid_column": null,
            "grid_gap": null,
            "grid_row": null,
            "grid_template_areas": null,
            "grid_template_columns": null,
            "grid_template_rows": null,
            "height": null,
            "justify_content": null,
            "justify_items": null,
            "left": null,
            "margin": null,
            "max_height": null,
            "max_width": null,
            "min_height": null,
            "min_width": null,
            "object_fit": null,
            "object_position": null,
            "order": null,
            "overflow": null,
            "overflow_x": null,
            "overflow_y": null,
            "padding": null,
            "right": null,
            "top": null,
            "visibility": null,
            "width": null
          }
        },
        "69b4215f22b540a4a8d3dbae5ab7b516": {
          "model_module": "@jupyter-widgets/controls",
          "model_name": "DescriptionStyleModel",
          "model_module_version": "1.5.0",
          "state": {
            "_model_module": "@jupyter-widgets/controls",
            "_model_module_version": "1.5.0",
            "_model_name": "DescriptionStyleModel",
            "_view_count": null,
            "_view_module": "@jupyter-widgets/base",
            "_view_module_version": "1.2.0",
            "_view_name": "StyleView",
            "description_width": ""
          }
        },
        "e2eb2cf1061345a6a6e883825de0cd90": {
          "model_module": "@jupyter-widgets/controls",
          "model_name": "HBoxModel",
          "model_module_version": "1.5.0",
          "state": {
            "_dom_classes": [],
            "_model_module": "@jupyter-widgets/controls",
            "_model_module_version": "1.5.0",
            "_model_name": "HBoxModel",
            "_view_count": null,
            "_view_module": "@jupyter-widgets/controls",
            "_view_module_version": "1.5.0",
            "_view_name": "HBoxView",
            "box_style": "",
            "children": [
              "IPY_MODEL_471071b1264a41cdba6bbc097659387e",
              "IPY_MODEL_7939334ebb8f4010829a144e1927e66d",
              "IPY_MODEL_fa982c1fea564c9aadbfe66e8e13ff81"
            ],
            "layout": "IPY_MODEL_829f79d56c2a4ea2928d13be87e102ce"
          }
        },
        "471071b1264a41cdba6bbc097659387e": {
          "model_module": "@jupyter-widgets/controls",
          "model_name": "HTMLModel",
          "model_module_version": "1.5.0",
          "state": {
            "_dom_classes": [],
            "_model_module": "@jupyter-widgets/controls",
            "_model_module_version": "1.5.0",
            "_model_name": "HTMLModel",
            "_view_count": null,
            "_view_module": "@jupyter-widgets/controls",
            "_view_module_version": "1.5.0",
            "_view_name": "HTMLView",
            "description": "",
            "description_tooltip": null,
            "layout": "IPY_MODEL_8ac3869d5fb045d89f6ab7a368cde353",
            "placeholder": "​",
            "style": "IPY_MODEL_0e738195e11a40ae82fad99d120ef01f",
            "value": "Read progress 0:   0%"
          }
        },
        "7939334ebb8f4010829a144e1927e66d": {
          "model_module": "@jupyter-widgets/controls",
          "model_name": "FloatProgressModel",
          "model_module_version": "1.5.0",
          "state": {
            "_dom_classes": [],
            "_model_module": "@jupyter-widgets/controls",
            "_model_module_version": "1.5.0",
            "_model_name": "FloatProgressModel",
            "_view_count": null,
            "_view_module": "@jupyter-widgets/controls",
            "_view_module_version": "1.5.0",
            "_view_name": "ProgressView",
            "bar_style": "danger",
            "description": "",
            "description_tooltip": null,
            "layout": "IPY_MODEL_9f6a320993104ef580a4480088c1f397",
            "max": 1,
            "min": 0,
            "orientation": "horizontal",
            "style": "IPY_MODEL_073068ae2d504a05a6f3c4ca19f54046",
            "value": 0
          }
        },
        "fa982c1fea564c9aadbfe66e8e13ff81": {
          "model_module": "@jupyter-widgets/controls",
          "model_name": "HTMLModel",
          "model_module_version": "1.5.0",
          "state": {
            "_dom_classes": [],
            "_model_module": "@jupyter-widgets/controls",
            "_model_module_version": "1.5.0",
            "_model_name": "HTMLModel",
            "_view_count": null,
            "_view_module": "@jupyter-widgets/controls",
            "_view_module_version": "1.5.0",
            "_view_name": "HTMLView",
            "description": "",
            "description_tooltip": null,
            "layout": "IPY_MODEL_7ef0cc3b345849b28b706226e3dc952e",
            "placeholder": "​",
            "style": "IPY_MODEL_6a9be5215d64466887636e5f830f227c",
            "value": " 0/1 [00:00&lt;?, ?it/s]"
          }
        },
        "829f79d56c2a4ea2928d13be87e102ce": {
          "model_module": "@jupyter-widgets/base",
          "model_name": "LayoutModel",
          "model_module_version": "1.2.0",
          "state": {
            "_model_module": "@jupyter-widgets/base",
            "_model_module_version": "1.2.0",
            "_model_name": "LayoutModel",
            "_view_count": null,
            "_view_module": "@jupyter-widgets/base",
            "_view_module_version": "1.2.0",
            "_view_name": "LayoutView",
            "align_content": null,
            "align_items": null,
            "align_self": null,
            "border": null,
            "bottom": null,
            "display": "inline-flex",
            "flex": null,
            "flex_flow": "row wrap",
            "grid_area": null,
            "grid_auto_columns": null,
            "grid_auto_flow": null,
            "grid_auto_rows": null,
            "grid_column": null,
            "grid_gap": null,
            "grid_row": null,
            "grid_template_areas": null,
            "grid_template_columns": null,
            "grid_template_rows": null,
            "height": null,
            "justify_content": null,
            "justify_items": null,
            "left": null,
            "margin": null,
            "max_height": null,
            "max_width": null,
            "min_height": null,
            "min_width": null,
            "object_fit": null,
            "object_position": null,
            "order": null,
            "overflow": null,
            "overflow_x": null,
            "overflow_y": null,
            "padding": null,
            "right": null,
            "top": null,
            "visibility": null,
            "width": "100%"
          }
        },
        "8ac3869d5fb045d89f6ab7a368cde353": {
          "model_module": "@jupyter-widgets/base",
          "model_name": "LayoutModel",
          "model_module_version": "1.2.0",
          "state": {
            "_model_module": "@jupyter-widgets/base",
            "_model_module_version": "1.2.0",
            "_model_name": "LayoutModel",
            "_view_count": null,
            "_view_module": "@jupyter-widgets/base",
            "_view_module_version": "1.2.0",
            "_view_name": "LayoutView",
            "align_content": null,
            "align_items": null,
            "align_self": null,
            "border": null,
            "bottom": null,
            "display": null,
            "flex": null,
            "flex_flow": null,
            "grid_area": null,
            "grid_auto_columns": null,
            "grid_auto_flow": null,
            "grid_auto_rows": null,
            "grid_column": null,
            "grid_gap": null,
            "grid_row": null,
            "grid_template_areas": null,
            "grid_template_columns": null,
            "grid_template_rows": null,
            "height": null,
            "justify_content": null,
            "justify_items": null,
            "left": null,
            "margin": null,
            "max_height": null,
            "max_width": null,
            "min_height": null,
            "min_width": null,
            "object_fit": null,
            "object_position": null,
            "order": null,
            "overflow": null,
            "overflow_x": null,
            "overflow_y": null,
            "padding": null,
            "right": null,
            "top": null,
            "visibility": null,
            "width": null
          }
        },
        "0e738195e11a40ae82fad99d120ef01f": {
          "model_module": "@jupyter-widgets/controls",
          "model_name": "DescriptionStyleModel",
          "model_module_version": "1.5.0",
          "state": {
            "_model_module": "@jupyter-widgets/controls",
            "_model_module_version": "1.5.0",
            "_model_name": "DescriptionStyleModel",
            "_view_count": null,
            "_view_module": "@jupyter-widgets/base",
            "_view_module_version": "1.2.0",
            "_view_name": "StyleView",
            "description_width": ""
          }
        },
        "9f6a320993104ef580a4480088c1f397": {
          "model_module": "@jupyter-widgets/base",
          "model_name": "LayoutModel",
          "model_module_version": "1.2.0",
          "state": {
            "_model_module": "@jupyter-widgets/base",
            "_model_module_version": "1.2.0",
            "_model_name": "LayoutModel",
            "_view_count": null,
            "_view_module": "@jupyter-widgets/base",
            "_view_module_version": "1.2.0",
            "_view_name": "LayoutView",
            "align_content": null,
            "align_items": null,
            "align_self": null,
            "border": null,
            "bottom": null,
            "display": null,
            "flex": "2",
            "flex_flow": null,
            "grid_area": null,
            "grid_auto_columns": null,
            "grid_auto_flow": null,
            "grid_auto_rows": null,
            "grid_column": null,
            "grid_gap": null,
            "grid_row": null,
            "grid_template_areas": null,
            "grid_template_columns": null,
            "grid_template_rows": null,
            "height": null,
            "justify_content": null,
            "justify_items": null,
            "left": null,
            "margin": null,
            "max_height": null,
            "max_width": null,
            "min_height": null,
            "min_width": null,
            "object_fit": null,
            "object_position": null,
            "order": null,
            "overflow": null,
            "overflow_x": null,
            "overflow_y": null,
            "padding": null,
            "right": null,
            "top": null,
            "visibility": null,
            "width": null
          }
        },
        "073068ae2d504a05a6f3c4ca19f54046": {
          "model_module": "@jupyter-widgets/controls",
          "model_name": "ProgressStyleModel",
          "model_module_version": "1.5.0",
          "state": {
            "_model_module": "@jupyter-widgets/controls",
            "_model_module_version": "1.5.0",
            "_model_name": "ProgressStyleModel",
            "_view_count": null,
            "_view_module": "@jupyter-widgets/base",
            "_view_module_version": "1.2.0",
            "_view_name": "StyleView",
            "bar_color": null,
            "description_width": ""
          }
        },
        "7ef0cc3b345849b28b706226e3dc952e": {
          "model_module": "@jupyter-widgets/base",
          "model_name": "LayoutModel",
          "model_module_version": "1.2.0",
          "state": {
            "_model_module": "@jupyter-widgets/base",
            "_model_module_version": "1.2.0",
            "_model_name": "LayoutModel",
            "_view_count": null,
            "_view_module": "@jupyter-widgets/base",
            "_view_module_version": "1.2.0",
            "_view_name": "LayoutView",
            "align_content": null,
            "align_items": null,
            "align_self": null,
            "border": null,
            "bottom": null,
            "display": null,
            "flex": null,
            "flex_flow": null,
            "grid_area": null,
            "grid_auto_columns": null,
            "grid_auto_flow": null,
            "grid_auto_rows": null,
            "grid_column": null,
            "grid_gap": null,
            "grid_row": null,
            "grid_template_areas": null,
            "grid_template_columns": null,
            "grid_template_rows": null,
            "height": null,
            "justify_content": null,
            "justify_items": null,
            "left": null,
            "margin": null,
            "max_height": null,
            "max_width": null,
            "min_height": null,
            "min_width": null,
            "object_fit": null,
            "object_position": null,
            "order": null,
            "overflow": null,
            "overflow_x": null,
            "overflow_y": null,
            "padding": null,
            "right": null,
            "top": null,
            "visibility": null,
            "width": null
          }
        },
        "6a9be5215d64466887636e5f830f227c": {
          "model_module": "@jupyter-widgets/controls",
          "model_name": "DescriptionStyleModel",
          "model_module_version": "1.5.0",
          "state": {
            "_model_module": "@jupyter-widgets/controls",
            "_model_module_version": "1.5.0",
            "_model_name": "DescriptionStyleModel",
            "_view_count": null,
            "_view_module": "@jupyter-widgets/base",
            "_view_module_version": "1.2.0",
            "_view_name": "StyleView",
            "description_width": ""
          }
        }
      }
    }
  },
  "nbformat": 4,
  "nbformat_minor": 0
}